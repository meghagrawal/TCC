{
  "nbformat": 4,
  "nbformat_minor": 0,
  "metadata": {
    "colab": {
      "name": "Concurrent Labels.ipynb",
      "provenance": [],
      "collapsed_sections": []
    },
    "kernelspec": {
      "name": "python3",
      "display_name": "Python 3"
    }
  },
  "cells": [
    {
      "cell_type": "code",
      "metadata": {
        "id": "A53P9GotAV8p",
        "colab_type": "code",
        "colab": {
          "base_uri": "https://localhost:8080/",
          "height": 17
        },
        "outputId": "295bdbdc-754f-483d-9e52-39adafc6b021"
      },
      "source": [
        "# This Python 3 environment comes with many helpful analytics libraries installed\n",
        "# It is defined by the kaggle/python docker image: https://github.com/kaggle/docker-python\n",
        "# For example, here's several helpful packages to load in \n",
        "\n",
        "import numpy as np # linear algebra\n",
        "import pandas as pd # data processing, CSV file I/O (e.g. pd.read_csv)\n",
        "\n",
        "# Input data files are available in the \"../input/\" directory.\n",
        "# For example, running this (by clicking run or pressing Shift+Enter) will list the files in the input directory\n",
        "\n",
        "from subprocess import check_output\n",
        "#print(check_output([\"ls\", \"../input\"]).decode(\"utf8\"))\n",
        "\n",
        "# Any results you write to the current directory are saved as output.\n",
        "\n",
        "# ------------------------ Standard Kaggle statements END --------------------------------------\n",
        "\n",
        "import spacy\n",
        "from spacy import __version__\n",
        "#print(\"Going to use Spacy version - \", __version__)\n",
        "\n",
        "from plotly import subplots\n",
        "from plotly import __version__\n",
        "from plotly.offline import download_plotlyjs, init_notebook_mode, plot, iplot\n",
        "import plotly.graph_objs as go\n",
        "import plotly.graph_objs.layout as go1\n",
        "import plotly.figure_factory as ff\n",
        "#print(\"Going to use Plotly version - \", __version__)\n",
        "init_notebook_mode(connected=True)\n",
        "\n",
        "import sklearn\n",
        "from sklearn.feature_extraction.text import CountVectorizer\n",
        "from sklearn.feature_extraction.text import TfidfTransformer\n",
        "\n",
        "from nltk.corpus import stopwords\n",
        "\n",
        "# Let's load Spacy\n",
        "nlp = spacy.load(\"en\")\n",
        "\n",
        "# Plotly definitions \n",
        "# ------------------\n",
        "\n",
        "# Plot background color\n",
        "paper_bgcolor = \"rgb(240, 240, 240)\"\n",
        "plot_bgcolor = \"rgb(240, 240, 240)\"\n",
        "\n",
        "# Red, blue, green (used by plotly by default)\n",
        "rgb_def = ['rgb(228,26,28)', 'rgb(77,175,74)', 'rgb(55,126,184)']\n",
        "\n",
        "# Contrasting 2 qualities, highlighting one\n",
        "contra_2_cols = [\"rgb(150,150,150)\", \"rgb(55,126,184)\"]\n",
        "\n",
        "# Barchart axis templates\n",
        "# template 1\n",
        "bchart_xaxis_temp1 = dict(\n",
        "    zeroline=False,\n",
        "    showline=False, \n",
        "    showgrid=False, \n",
        "    showticklabels=False,    \n",
        "    tickfont=dict(\n",
        "        size=9,\n",
        "        color=\"grey\"\n",
        "    )      \n",
        ")\n",
        "\n",
        "bchart_yaxis_temp1=dict(\n",
        "    tickfont=dict(\n",
        "        size=9,\n",
        "        color=\"grey\"\n",
        "    )        \n",
        ")\n",
        "\n",
        "# template 2\n",
        "bchart_xaxis_temp2 = dict(\n",
        "    zeroline=False,\n",
        "    showline=False, \n",
        "    showgrid=False, \n",
        "    showticklabels=False,    \n",
        "    tickfont=dict(\n",
        "        size=10,\n",
        "        color=\"grey\"\n",
        "    )      \n",
        ")\n",
        "\n",
        "bchart_yaxis_temp2=dict(\n",
        "    tickfont=dict(\n",
        "        size=10,\n",
        "        color=\"grey\"\n",
        "    )        \n",
        ")\n",
        "\n",
        "# Heatmap templates\n",
        "heatmap_axis_temp1 = dict(\n",
        "    zeroline=False,\n",
        "    showline=False,\n",
        "    showgrid=False, \n",
        "    showticklabels=False,  \n",
        "    ticks=''                \n",
        ")   "
      ],
      "execution_count": null,
      "outputs": [
        {
          "output_type": "display_data",
          "data": {
            "text/html": [
              "        <script type=\"text/javascript\">\n",
              "        window.PlotlyConfig = {MathJaxConfig: 'local'};\n",
              "        if (window.MathJax) {MathJax.Hub.Config({SVG: {font: \"STIX-Web\"}});}\n",
              "        if (typeof require !== 'undefined') {\n",
              "        require.undef(\"plotly\");\n",
              "        requirejs.config({\n",
              "            paths: {\n",
              "                'plotly': ['https://cdn.plot.ly/plotly-latest.min']\n",
              "            }\n",
              "        });\n",
              "        require(['plotly'], function(Plotly) {\n",
              "            window._Plotly = Plotly;\n",
              "        });\n",
              "        }\n",
              "        </script>\n",
              "        "
            ]
          },
          "metadata": {
            "tags": []
          }
        }
      ]
    },
    {
      "cell_type": "code",
      "metadata": {
        "id": "E7g86tGQAew7",
        "colab_type": "code",
        "colab": {}
      },
      "source": [
        "\n",
        "def concat_label_columns(row):\n",
        "    multiheads = []\n",
        "    for col in list(train_orig.columns)[2:]:\n",
        "        if row[col]:\n",
        "            multiheads.append(col) \n",
        "    if len(multiheads) == 0:\n",
        "        return \"non_toxic\"\n",
        "    else:\n",
        "        return \":\".join(multiheads)\n",
        "    \n",
        "def get_reshaped_array(one_d_nparray, fc):\n",
        "    \"\"\"Given an 1d array of an arbitrary size, make the shape of the \n",
        "    1d array divisible by factor \"fc\" by appending np.nan values when it is not divisible evenly. \n",
        "    For ex: If the array \n",
        "    dimension is (114, ), and the factor \"fc\" is 100,  \n",
        "    then the np.nan 1d array of shape 86 will \n",
        "    be appended to the original 1d array to become array size 200. \n",
        "    Array shape 200 evenly divides by 100.\n",
        "    \"\"\"    \n",
        "    remainder = one_d_nparray.shape[0] % fc\n",
        "    if remainder > 0:\n",
        "        cells_to_fill = fc - remainder\n",
        "        nan_array = np.full(cells_to_fill, np.nan)\n",
        "        one_d_nparray = np.append(one_d_nparray, nan_array)\n",
        "    num_cols_heatmap = int(one_d_nparray.shape[0] / fc)\n",
        "    num_rows_heatmap = fc\n",
        "    return one_d_nparray.reshape((num_rows_heatmap, num_cols_heatmap))"
      ],
      "execution_count": null,
      "outputs": []
    },
    {
      "cell_type": "code",
      "metadata": {
        "id": "6udX0NkWAuiC",
        "colab_type": "code",
        "colab": {
          "base_uri": "https://localhost:8080/",
          "height": 34
        },
        "outputId": "fa3ccd4f-cadf-4d9e-d8ab-c0e308409da8"
      },
      "source": [
        " \n",
        "from google.colab import drive\n",
        "drive.mount('/content/drive')"
      ],
      "execution_count": null,
      "outputs": [
        {
          "output_type": "stream",
          "text": [
            "Drive already mounted at /content/drive; to attempt to forcibly remount, call drive.mount(\"/content/drive\", force_remount=True).\n"
          ],
          "name": "stdout"
        }
      ]
    },
    {
      "cell_type": "code",
      "metadata": {
        "id": "ET8gdKKFAk2j",
        "colab_type": "code",
        "colab": {}
      },
      "source": [
        "train_orig = pd.read_csv(\"drive/My Drive/TCC/train.csv\")\n",
        "#test_orig = pd.read_csv(\"test.csv\")\n",
        "\n",
        "# copy of the datasets \n",
        "train = train_orig.copy()\n",
        "#test = test_orig.copy()\n",
        "\n",
        "# concatenate the labels into comma separated one label and save it in a new column \n",
        "train[\"concatenated_label\"] = train.apply(concat_label_columns, axis=1)\n",
        "\n",
        "comment_types = list(train_orig.columns)[2:]\n",
        "comment_types_incl = [\"non_toxic\"] + comment_types\n",
        "\n",
        "multi_comment_types = list(train[\"concatenated_label\"].unique())"
      ],
      "execution_count": null,
      "outputs": []
    },
    {
      "cell_type": "code",
      "metadata": {
        "id": "86x4NFUsAoHL",
        "colab_type": "code",
        "colab": {
          "base_uri": "https://localhost:8080/",
          "height": 1000
        },
        "outputId": "fb20dfda-ef15-43c5-abad-e7e1854373f7"
      },
      "source": [
        "cmnt_count_matrix = []\n",
        "for cmnt_type1 in comment_types:\n",
        "    cmnt_type_frame = train[train[cmnt_type1] == 1]\n",
        "    cmnt_type2_count = []\n",
        "    for cmnt_type2 in comment_types:\n",
        "        cmnt_type2_count.append(cmnt_type_frame[cmnt_type2].sum())\n",
        "    cmnt_count_matrix.append(cmnt_type2_count)\n",
        "cmnt_count_matrix = np.array(cmnt_count_matrix)\n",
        "\n",
        "fig_coords = [(1, 1), (1, 2), (1, 3), (2, 1), (2, 2), (2, 3)]\n",
        "axes_names = [(\"x1\", \"y1\"), (\"x2\", \"y2\"), (\"x3\", \"y3\"), (\"x4\", \"y4\"), (\"x5\", \"y5\"), (\"x6\", \"y6\")]\n",
        "axes_lo_names = [(\"xaxis1\", \"yaxis1\"), (\"xaxis2\", \"yaxis2\"), (\"xaxis3\", \"yaxis3\"), (\"xaxis4\", \"yaxis4\"), (\"xaxis5\", \"yaxis5\"), (\"xaxis6\", \"yaxis6\")]\n",
        "fig = subplots.make_subplots(\n",
        "    rows=2, \n",
        "    cols=3, \n",
        "    horizontal_spacing=0.15, \n",
        "    vertical_spacing=0.25,\n",
        "    subplot_titles=(comment_types[0], comment_types[1], comment_types[2], comment_types[3], comment_types[4], comment_types[5])\n",
        ")\n",
        "for i, c_type, fig_coord, ax in zip(range(len(comment_types)),comment_types, fig_coords, axes_names):\n",
        "    inner_count = pd.Series(cmnt_count_matrix[i, :], index=comment_types)\n",
        "    inner_count = inner_count.sort_values()\n",
        "    trace = go.Bar(x=inner_count, y=list(inner_count.index), orientation = 'h')\n",
        "    fig.append_trace(trace, fig_coord[0], fig_coord[1])\n",
        "\n",
        "fig[\"layout\"].update(\n",
        "    showlegend=False,\n",
        "    title=\"<b>Co-occurrence of comment types</b>\",\n",
        "    xaxis1=bchart_xaxis_temp2,\n",
        "    yaxis1=bchart_yaxis_temp2,\n",
        "    xaxis2=bchart_xaxis_temp2,\n",
        "    yaxis2=bchart_yaxis_temp2,\n",
        "    xaxis3=bchart_xaxis_temp2,\n",
        "    yaxis3=bchart_yaxis_temp2,    \n",
        "    xaxis4=bchart_xaxis_temp2,\n",
        "    yaxis4=bchart_yaxis_temp2,\n",
        "    xaxis5=bchart_xaxis_temp2,\n",
        "    yaxis5=bchart_yaxis_temp2,\n",
        "    xaxis6=bchart_xaxis_temp2,\n",
        "    yaxis6=bchart_yaxis_temp2,\n",
        "\n",
        "    margin=go1.Margin(\n",
        "        l=100,\n",
        "        r=100,\n",
        "        t=100,\n",
        "        b=25,\n",
        "    ),\n",
        "    autosize=False,\n",
        "    width=900,\n",
        "    height=500,\n",
        ")\n",
        "iplot(fig)\n",
        "\n",
        "# As a heatmap\n",
        "fig = ff.create_annotated_heatmap(\n",
        "    z=cmnt_count_matrix, \n",
        "    x=comment_types, \n",
        "    y=comment_types, \n",
        "    colorscale='YlGnBu', \n",
        "    zmin=1, \n",
        "    zmax=cmnt_count_matrix.max()\n",
        ")\n",
        "fig[\"layout\"][\"xaxis\"].update(side=\"bottom\")\n",
        "fig[\"layout\"].update(\n",
        "    title=\"<b>Co-occurrence of comment types</b>\",    \n",
        "    xaxis=dict(\n",
        "        title=\"Major comment category\",\n",
        "        tickfont=dict(\n",
        "            color=\"grey\"\n",
        "        )        \n",
        "    ),   \n",
        "    yaxis=dict(\n",
        "        title=\"Co-occurring comment category\",\n",
        "        tickfont=dict(\n",
        "            color=\"grey\"\n",
        "        )        \n",
        "    ),   \n",
        "    \n",
        "    margin=go1.Margin(\n",
        "        l=150,\n",
        "        r=150,\n",
        "        t=150,\n",
        "        b=75\n",
        "    ),\n",
        "    autosize=False,\n",
        "    width=900,\n",
        "    height=450,\n",
        ")\n",
        "iplot(fig)\n",
        "fig.show()\n",
        "fig.write_image(\"concurrent.png\")"
      ],
      "execution_count": null,
      "outputs": [
        {
          "output_type": "display_data",
          "data": {
            "text/html": [
              "<div>\n",
              "        \n",
              "        \n",
              "            <div id=\"afaa201c-fbd5-4805-b525-24c914eedb8f\" class=\"plotly-graph-div\" style=\"height:500px; width:900px;\"></div>\n",
              "            <script type=\"text/javascript\">\n",
              "                require([\"plotly\"], function(Plotly) {\n",
              "                    window.PLOTLYENV=window.PLOTLYENV || {};\n",
              "                    \n",
              "                if (document.getElementById(\"afaa201c-fbd5-4805-b525-24c914eedb8f\")) {\n",
              "                    Plotly.newPlot(\n",
              "                        'afaa201c-fbd5-4805-b525-24c914eedb8f',\n",
              "                        [{\"orientation\": \"h\", \"type\": \"bar\", \"x\": [449, 1302, 1595, 7344, 7926, 15294], \"xaxis\": \"x\", \"y\": [\"threat\", \"identity_hate\", \"severe_toxic\", \"insult\", \"obscene\", \"toxic\"], \"yaxis\": \"y\"}, {\"orientation\": \"h\", \"type\": \"bar\", \"x\": [112, 313, 1371, 1517, 1595, 1595], \"xaxis\": \"x2\", \"y\": [\"threat\", \"identity_hate\", \"insult\", \"obscene\", \"toxic\", \"severe_toxic\"], \"yaxis\": \"y2\"}, {\"orientation\": \"h\", \"type\": \"bar\", \"x\": [301, 1032, 1517, 6155, 7926, 8449], \"xaxis\": \"x3\", \"y\": [\"threat\", \"identity_hate\", \"severe_toxic\", \"insult\", \"toxic\", \"obscene\"], \"yaxis\": \"y3\"}, {\"orientation\": \"h\", \"type\": \"bar\", \"x\": [98, 112, 301, 307, 449, 478], \"xaxis\": \"x4\", \"y\": [\"identity_hate\", \"severe_toxic\", \"obscene\", \"insult\", \"toxic\", \"threat\"], \"yaxis\": \"y4\"}, {\"orientation\": \"h\", \"type\": \"bar\", \"x\": [307, 1160, 1371, 6155, 7344, 7877], \"xaxis\": \"x5\", \"y\": [\"threat\", \"identity_hate\", \"severe_toxic\", \"obscene\", \"toxic\", \"insult\"], \"yaxis\": \"y5\"}, {\"orientation\": \"h\", \"type\": \"bar\", \"x\": [98, 313, 1032, 1160, 1302, 1405], \"xaxis\": \"x6\", \"y\": [\"threat\", \"severe_toxic\", \"obscene\", \"insult\", \"toxic\", \"identity_hate\"], \"yaxis\": \"y6\"}],\n",
              "                        {\"annotations\": [{\"font\": {\"size\": 16}, \"showarrow\": false, \"text\": \"toxic\", \"x\": 0.11666666666666665, \"xanchor\": \"center\", \"xref\": \"paper\", \"y\": 1.0, \"yanchor\": \"bottom\", \"yref\": \"paper\"}, {\"font\": {\"size\": 16}, \"showarrow\": false, \"text\": \"severe_toxic\", \"x\": 0.49999999999999994, \"xanchor\": \"center\", \"xref\": \"paper\", \"y\": 1.0, \"yanchor\": \"bottom\", \"yref\": \"paper\"}, {\"font\": {\"size\": 16}, \"showarrow\": false, \"text\": \"obscene\", \"x\": 0.8833333333333333, \"xanchor\": \"center\", \"xref\": \"paper\", \"y\": 1.0, \"yanchor\": \"bottom\", \"yref\": \"paper\"}, {\"font\": {\"size\": 16}, \"showarrow\": false, \"text\": \"threat\", \"x\": 0.11666666666666665, \"xanchor\": \"center\", \"xref\": \"paper\", \"y\": 0.375, \"yanchor\": \"bottom\", \"yref\": \"paper\"}, {\"font\": {\"size\": 16}, \"showarrow\": false, \"text\": \"insult\", \"x\": 0.49999999999999994, \"xanchor\": \"center\", \"xref\": \"paper\", \"y\": 0.375, \"yanchor\": \"bottom\", \"yref\": \"paper\"}, {\"font\": {\"size\": 16}, \"showarrow\": false, \"text\": \"identity_hate\", \"x\": 0.8833333333333333, \"xanchor\": \"center\", \"xref\": \"paper\", \"y\": 0.375, \"yanchor\": \"bottom\", \"yref\": \"paper\"}], \"autosize\": false, \"height\": 500, \"margin\": {\"b\": 25, \"l\": 100, \"r\": 100, \"t\": 100}, \"showlegend\": false, \"template\": {\"data\": {\"bar\": [{\"error_x\": {\"color\": \"#2a3f5f\"}, \"error_y\": {\"color\": \"#2a3f5f\"}, \"marker\": {\"line\": {\"color\": \"#E5ECF6\", \"width\": 0.5}}, \"type\": \"bar\"}], \"barpolar\": [{\"marker\": {\"line\": {\"color\": \"#E5ECF6\", \"width\": 0.5}}, \"type\": \"barpolar\"}], \"carpet\": [{\"aaxis\": {\"endlinecolor\": \"#2a3f5f\", \"gridcolor\": \"white\", \"linecolor\": \"white\", \"minorgridcolor\": \"white\", \"startlinecolor\": \"#2a3f5f\"}, \"baxis\": {\"endlinecolor\": \"#2a3f5f\", \"gridcolor\": \"white\", \"linecolor\": \"white\", \"minorgridcolor\": \"white\", \"startlinecolor\": \"#2a3f5f\"}, \"type\": \"carpet\"}], \"choropleth\": [{\"colorbar\": {\"outlinewidth\": 0, \"ticks\": \"\"}, \"type\": \"choropleth\"}], \"contour\": [{\"colorbar\": {\"outlinewidth\": 0, \"ticks\": \"\"}, \"colorscale\": [[0.0, \"#0d0887\"], [0.1111111111111111, \"#46039f\"], [0.2222222222222222, \"#7201a8\"], [0.3333333333333333, \"#9c179e\"], [0.4444444444444444, \"#bd3786\"], [0.5555555555555556, \"#d8576b\"], [0.6666666666666666, \"#ed7953\"], [0.7777777777777778, \"#fb9f3a\"], [0.8888888888888888, \"#fdca26\"], [1.0, \"#f0f921\"]], \"type\": \"contour\"}], \"contourcarpet\": [{\"colorbar\": {\"outlinewidth\": 0, \"ticks\": \"\"}, \"type\": \"contourcarpet\"}], \"heatmap\": [{\"colorbar\": {\"outlinewidth\": 0, \"ticks\": \"\"}, \"colorscale\": [[0.0, \"#0d0887\"], [0.1111111111111111, \"#46039f\"], [0.2222222222222222, \"#7201a8\"], [0.3333333333333333, \"#9c179e\"], [0.4444444444444444, \"#bd3786\"], [0.5555555555555556, \"#d8576b\"], [0.6666666666666666, \"#ed7953\"], [0.7777777777777778, \"#fb9f3a\"], [0.8888888888888888, \"#fdca26\"], [1.0, \"#f0f921\"]], \"type\": \"heatmap\"}], \"heatmapgl\": [{\"colorbar\": {\"outlinewidth\": 0, \"ticks\": \"\"}, \"colorscale\": [[0.0, \"#0d0887\"], [0.1111111111111111, \"#46039f\"], [0.2222222222222222, \"#7201a8\"], [0.3333333333333333, \"#9c179e\"], [0.4444444444444444, \"#bd3786\"], [0.5555555555555556, \"#d8576b\"], [0.6666666666666666, \"#ed7953\"], [0.7777777777777778, \"#fb9f3a\"], [0.8888888888888888, \"#fdca26\"], [1.0, \"#f0f921\"]], \"type\": \"heatmapgl\"}], \"histogram\": [{\"marker\": {\"colorbar\": {\"outlinewidth\": 0, \"ticks\": \"\"}}, \"type\": \"histogram\"}], \"histogram2d\": [{\"colorbar\": {\"outlinewidth\": 0, \"ticks\": \"\"}, \"colorscale\": [[0.0, \"#0d0887\"], [0.1111111111111111, \"#46039f\"], [0.2222222222222222, \"#7201a8\"], [0.3333333333333333, \"#9c179e\"], [0.4444444444444444, \"#bd3786\"], [0.5555555555555556, \"#d8576b\"], [0.6666666666666666, \"#ed7953\"], [0.7777777777777778, \"#fb9f3a\"], [0.8888888888888888, \"#fdca26\"], [1.0, \"#f0f921\"]], \"type\": \"histogram2d\"}], \"histogram2dcontour\": [{\"colorbar\": {\"outlinewidth\": 0, \"ticks\": \"\"}, \"colorscale\": [[0.0, \"#0d0887\"], [0.1111111111111111, \"#46039f\"], [0.2222222222222222, \"#7201a8\"], [0.3333333333333333, \"#9c179e\"], [0.4444444444444444, \"#bd3786\"], [0.5555555555555556, \"#d8576b\"], [0.6666666666666666, \"#ed7953\"], [0.7777777777777778, \"#fb9f3a\"], [0.8888888888888888, \"#fdca26\"], [1.0, \"#f0f921\"]], \"type\": \"histogram2dcontour\"}], \"mesh3d\": [{\"colorbar\": {\"outlinewidth\": 0, \"ticks\": \"\"}, \"type\": \"mesh3d\"}], \"parcoords\": [{\"line\": {\"colorbar\": {\"outlinewidth\": 0, \"ticks\": \"\"}}, \"type\": \"parcoords\"}], \"scatter\": [{\"marker\": {\"colorbar\": {\"outlinewidth\": 0, \"ticks\": \"\"}}, \"type\": \"scatter\"}], \"scatter3d\": [{\"line\": {\"colorbar\": {\"outlinewidth\": 0, \"ticks\": \"\"}}, \"marker\": {\"colorbar\": {\"outlinewidth\": 0, \"ticks\": \"\"}}, \"type\": \"scatter3d\"}], \"scattercarpet\": [{\"marker\": {\"colorbar\": {\"outlinewidth\": 0, \"ticks\": \"\"}}, \"type\": \"scattercarpet\"}], \"scattergeo\": [{\"marker\": {\"colorbar\": {\"outlinewidth\": 0, \"ticks\": \"\"}}, \"type\": \"scattergeo\"}], \"scattergl\": [{\"marker\": {\"colorbar\": {\"outlinewidth\": 0, \"ticks\": \"\"}}, \"type\": \"scattergl\"}], \"scattermapbox\": [{\"marker\": {\"colorbar\": {\"outlinewidth\": 0, \"ticks\": \"\"}}, \"type\": \"scattermapbox\"}], \"scatterpolar\": [{\"marker\": {\"colorbar\": {\"outlinewidth\": 0, \"ticks\": \"\"}}, \"type\": \"scatterpolar\"}], \"scatterpolargl\": [{\"marker\": {\"colorbar\": {\"outlinewidth\": 0, \"ticks\": \"\"}}, \"type\": \"scatterpolargl\"}], \"scatterternary\": [{\"marker\": {\"colorbar\": {\"outlinewidth\": 0, \"ticks\": \"\"}}, \"type\": \"scatterternary\"}], \"surface\": [{\"colorbar\": {\"outlinewidth\": 0, \"ticks\": \"\"}, \"colorscale\": [[0.0, \"#0d0887\"], [0.1111111111111111, \"#46039f\"], [0.2222222222222222, \"#7201a8\"], [0.3333333333333333, \"#9c179e\"], [0.4444444444444444, \"#bd3786\"], [0.5555555555555556, \"#d8576b\"], [0.6666666666666666, \"#ed7953\"], [0.7777777777777778, \"#fb9f3a\"], [0.8888888888888888, \"#fdca26\"], [1.0, \"#f0f921\"]], \"type\": \"surface\"}], \"table\": [{\"cells\": {\"fill\": {\"color\": \"#EBF0F8\"}, \"line\": {\"color\": \"white\"}}, \"header\": {\"fill\": {\"color\": \"#C8D4E3\"}, \"line\": {\"color\": \"white\"}}, \"type\": \"table\"}]}, \"layout\": {\"annotationdefaults\": {\"arrowcolor\": \"#2a3f5f\", \"arrowhead\": 0, \"arrowwidth\": 1}, \"colorscale\": {\"diverging\": [[0, \"#8e0152\"], [0.1, \"#c51b7d\"], [0.2, \"#de77ae\"], [0.3, \"#f1b6da\"], [0.4, \"#fde0ef\"], [0.5, \"#f7f7f7\"], [0.6, \"#e6f5d0\"], [0.7, \"#b8e186\"], [0.8, \"#7fbc41\"], [0.9, \"#4d9221\"], [1, \"#276419\"]], \"sequential\": [[0.0, \"#0d0887\"], [0.1111111111111111, \"#46039f\"], [0.2222222222222222, \"#7201a8\"], [0.3333333333333333, \"#9c179e\"], [0.4444444444444444, \"#bd3786\"], [0.5555555555555556, \"#d8576b\"], [0.6666666666666666, \"#ed7953\"], [0.7777777777777778, \"#fb9f3a\"], [0.8888888888888888, \"#fdca26\"], [1.0, \"#f0f921\"]], \"sequentialminus\": [[0.0, \"#0d0887\"], [0.1111111111111111, \"#46039f\"], [0.2222222222222222, \"#7201a8\"], [0.3333333333333333, \"#9c179e\"], [0.4444444444444444, \"#bd3786\"], [0.5555555555555556, \"#d8576b\"], [0.6666666666666666, \"#ed7953\"], [0.7777777777777778, \"#fb9f3a\"], [0.8888888888888888, \"#fdca26\"], [1.0, \"#f0f921\"]]}, \"colorway\": [\"#636efa\", \"#EF553B\", \"#00cc96\", \"#ab63fa\", \"#FFA15A\", \"#19d3f3\", \"#FF6692\", \"#B6E880\", \"#FF97FF\", \"#FECB52\"], \"font\": {\"color\": \"#2a3f5f\"}, \"geo\": {\"bgcolor\": \"white\", \"lakecolor\": \"white\", \"landcolor\": \"#E5ECF6\", \"showlakes\": true, \"showland\": true, \"subunitcolor\": \"white\"}, \"hoverlabel\": {\"align\": \"left\"}, \"hovermode\": \"closest\", \"mapbox\": {\"style\": \"light\"}, \"paper_bgcolor\": \"white\", \"plot_bgcolor\": \"#E5ECF6\", \"polar\": {\"angularaxis\": {\"gridcolor\": \"white\", \"linecolor\": \"white\", \"ticks\": \"\"}, \"bgcolor\": \"#E5ECF6\", \"radialaxis\": {\"gridcolor\": \"white\", \"linecolor\": \"white\", \"ticks\": \"\"}}, \"scene\": {\"xaxis\": {\"backgroundcolor\": \"#E5ECF6\", \"gridcolor\": \"white\", \"gridwidth\": 2, \"linecolor\": \"white\", \"showbackground\": true, \"ticks\": \"\", \"zerolinecolor\": \"white\"}, \"yaxis\": {\"backgroundcolor\": \"#E5ECF6\", \"gridcolor\": \"white\", \"gridwidth\": 2, \"linecolor\": \"white\", \"showbackground\": true, \"ticks\": \"\", \"zerolinecolor\": \"white\"}, \"zaxis\": {\"backgroundcolor\": \"#E5ECF6\", \"gridcolor\": \"white\", \"gridwidth\": 2, \"linecolor\": \"white\", \"showbackground\": true, \"ticks\": \"\", \"zerolinecolor\": \"white\"}}, \"shapedefaults\": {\"line\": {\"color\": \"#2a3f5f\"}}, \"ternary\": {\"aaxis\": {\"gridcolor\": \"white\", \"linecolor\": \"white\", \"ticks\": \"\"}, \"baxis\": {\"gridcolor\": \"white\", \"linecolor\": \"white\", \"ticks\": \"\"}, \"bgcolor\": \"#E5ECF6\", \"caxis\": {\"gridcolor\": \"white\", \"linecolor\": \"white\", \"ticks\": \"\"}}, \"title\": {\"x\": 0.05}, \"xaxis\": {\"automargin\": true, \"gridcolor\": \"white\", \"linecolor\": \"white\", \"ticks\": \"\", \"zerolinecolor\": \"white\", \"zerolinewidth\": 2}, \"yaxis\": {\"automargin\": true, \"gridcolor\": \"white\", \"linecolor\": \"white\", \"ticks\": \"\", \"zerolinecolor\": \"white\", \"zerolinewidth\": 2}}}, \"title\": {\"text\": \"<b>Co-occurrence of comment types</b>\"}, \"width\": 900, \"xaxis\": {\"anchor\": \"y\", \"domain\": [0.0, 0.2333333333333333], \"showgrid\": false, \"showline\": false, \"showticklabels\": false, \"tickfont\": {\"color\": \"grey\", \"size\": 10}, \"zeroline\": false}, \"xaxis2\": {\"anchor\": \"y2\", \"domain\": [0.3833333333333333, 0.6166666666666666], \"showgrid\": false, \"showline\": false, \"showticklabels\": false, \"tickfont\": {\"color\": \"grey\", \"size\": 10}, \"zeroline\": false}, \"xaxis3\": {\"anchor\": \"y3\", \"domain\": [0.7666666666666666, 0.9999999999999999], \"showgrid\": false, \"showline\": false, \"showticklabels\": false, \"tickfont\": {\"color\": \"grey\", \"size\": 10}, \"zeroline\": false}, \"xaxis4\": {\"anchor\": \"y4\", \"domain\": [0.0, 0.2333333333333333], \"showgrid\": false, \"showline\": false, \"showticklabels\": false, \"tickfont\": {\"color\": \"grey\", \"size\": 10}, \"zeroline\": false}, \"xaxis5\": {\"anchor\": \"y5\", \"domain\": [0.3833333333333333, 0.6166666666666666], \"showgrid\": false, \"showline\": false, \"showticklabels\": false, \"tickfont\": {\"color\": \"grey\", \"size\": 10}, \"zeroline\": false}, \"xaxis6\": {\"anchor\": \"y6\", \"domain\": [0.7666666666666666, 0.9999999999999999], \"showgrid\": false, \"showline\": false, \"showticklabels\": false, \"tickfont\": {\"color\": \"grey\", \"size\": 10}, \"zeroline\": false}, \"yaxis\": {\"anchor\": \"x\", \"domain\": [0.625, 1.0], \"tickfont\": {\"color\": \"grey\", \"size\": 10}}, \"yaxis2\": {\"anchor\": \"x2\", \"domain\": [0.625, 1.0], \"tickfont\": {\"color\": \"grey\", \"size\": 10}}, \"yaxis3\": {\"anchor\": \"x3\", \"domain\": [0.625, 1.0], \"tickfont\": {\"color\": \"grey\", \"size\": 10}}, \"yaxis4\": {\"anchor\": \"x4\", \"domain\": [0.0, 0.375], \"tickfont\": {\"color\": \"grey\", \"size\": 10}}, \"yaxis5\": {\"anchor\": \"x5\", \"domain\": [0.0, 0.375], \"tickfont\": {\"color\": \"grey\", \"size\": 10}}, \"yaxis6\": {\"anchor\": \"x6\", \"domain\": [0.0, 0.375], \"tickfont\": {\"color\": \"grey\", \"size\": 10}}},\n",
              "                        {\"responsive\": true}\n",
              "                    ).then(function(){\n",
              "                            \n",
              "var gd = document.getElementById('afaa201c-fbd5-4805-b525-24c914eedb8f');\n",
              "var x = new MutationObserver(function (mutations, observer) {{\n",
              "        var display = window.getComputedStyle(gd).display;\n",
              "        if (!display || display === 'none') {{\n",
              "            console.log([gd, 'removed!']);\n",
              "            Plotly.purge(gd);\n",
              "            observer.disconnect();\n",
              "        }}\n",
              "}});\n",
              "\n",
              "// Listen for the removal of the full notebook cells\n",
              "var notebookContainer = gd.closest('#notebook-container');\n",
              "if (notebookContainer) {{\n",
              "    x.observe(notebookContainer, {childList: true});\n",
              "}}\n",
              "\n",
              "// Listen for the clearing of the current output cell\n",
              "var outputEl = gd.closest('.output');\n",
              "if (outputEl) {{\n",
              "    x.observe(outputEl, {childList: true});\n",
              "}}\n",
              "\n",
              "                        })\n",
              "                };\n",
              "                });\n",
              "            </script>\n",
              "        </div>"
            ],
            "application/vnd.plotly.v1+json": {
              "data": [
                {
                  "orientation": "h",
                  "yaxis": "y",
                  "xaxis": "x",
                  "y": [
                    "threat",
                    "identity_hate",
                    "severe_toxic",
                    "insult",
                    "obscene",
                    "toxic"
                  ],
                  "x": [
                    449,
                    1302,
                    1595,
                    7344,
                    7926,
                    15294
                  ],
                  "type": "bar"
                },
                {
                  "orientation": "h",
                  "yaxis": "y2",
                  "xaxis": "x2",
                  "y": [
                    "threat",
                    "identity_hate",
                    "insult",
                    "obscene",
                    "toxic",
                    "severe_toxic"
                  ],
                  "x": [
                    112,
                    313,
                    1371,
                    1517,
                    1595,
                    1595
                  ],
                  "type": "bar"
                },
                {
                  "orientation": "h",
                  "yaxis": "y3",
                  "xaxis": "x3",
                  "y": [
                    "threat",
                    "identity_hate",
                    "severe_toxic",
                    "insult",
                    "toxic",
                    "obscene"
                  ],
                  "x": [
                    301,
                    1032,
                    1517,
                    6155,
                    7926,
                    8449
                  ],
                  "type": "bar"
                },
                {
                  "orientation": "h",
                  "yaxis": "y4",
                  "xaxis": "x4",
                  "y": [
                    "identity_hate",
                    "severe_toxic",
                    "obscene",
                    "insult",
                    "toxic",
                    "threat"
                  ],
                  "x": [
                    98,
                    112,
                    301,
                    307,
                    449,
                    478
                  ],
                  "type": "bar"
                },
                {
                  "orientation": "h",
                  "yaxis": "y5",
                  "xaxis": "x5",
                  "y": [
                    "threat",
                    "identity_hate",
                    "severe_toxic",
                    "obscene",
                    "toxic",
                    "insult"
                  ],
                  "x": [
                    307,
                    1160,
                    1371,
                    6155,
                    7344,
                    7877
                  ],
                  "type": "bar"
                },
                {
                  "orientation": "h",
                  "yaxis": "y6",
                  "xaxis": "x6",
                  "y": [
                    "threat",
                    "severe_toxic",
                    "obscene",
                    "insult",
                    "toxic",
                    "identity_hate"
                  ],
                  "x": [
                    98,
                    313,
                    1032,
                    1160,
                    1302,
                    1405
                  ],
                  "type": "bar"
                }
              ],
              "config": {
                "plotlyServerURL": "https://plot.ly",
                "linkText": "Export to plot.ly",
                "showLink": false
              },
              "layout": {
                "autosize": false,
                "xaxis2": {
                  "tickfont": {
                    "color": "grey",
                    "size": 10
                  },
                  "domain": [
                    0.3833333333333333,
                    0.6166666666666666
                  ],
                  "showticklabels": false,
                  "showgrid": false,
                  "zeroline": false,
                  "showline": false,
                  "anchor": "y2"
                },
                "xaxis": {
                  "tickfont": {
                    "color": "grey",
                    "size": 10
                  },
                  "domain": [
                    0,
                    0.2333333333333333
                  ],
                  "showticklabels": false,
                  "showgrid": false,
                  "zeroline": false,
                  "showline": false,
                  "anchor": "y"
                },
                "title": {
                  "text": "<b>Co-occurrence of comment types</b>"
                },
                "xaxis6": {
                  "tickfont": {
                    "color": "grey",
                    "size": 10
                  },
                  "domain": [
                    0.7666666666666666,
                    0.9999999999999999
                  ],
                  "showticklabels": false,
                  "showgrid": false,
                  "zeroline": false,
                  "showline": false,
                  "anchor": "y6"
                },
                "xaxis5": {
                  "tickfont": {
                    "color": "grey",
                    "size": 10
                  },
                  "domain": [
                    0.3833333333333333,
                    0.6166666666666666
                  ],
                  "showticklabels": false,
                  "showgrid": false,
                  "zeroline": false,
                  "showline": false,
                  "anchor": "y5"
                },
                "xaxis4": {
                  "tickfont": {
                    "color": "grey",
                    "size": 10
                  },
                  "domain": [
                    0,
                    0.2333333333333333
                  ],
                  "showticklabels": false,
                  "showgrid": false,
                  "zeroline": false,
                  "showline": false,
                  "anchor": "y4"
                },
                "xaxis3": {
                  "tickfont": {
                    "color": "grey",
                    "size": 10
                  },
                  "domain": [
                    0.7666666666666666,
                    0.9999999999999999
                  ],
                  "showticklabels": false,
                  "showgrid": false,
                  "zeroline": false,
                  "showline": false,
                  "anchor": "y3"
                },
                "showlegend": false,
                "height": 500,
                "width": 900,
                "yaxis2": {
                  "tickfont": {
                    "color": "grey",
                    "size": 10
                  },
                  "domain": [
                    0.625,
                    1
                  ],
                  "anchor": "x2"
                },
                "yaxis3": {
                  "tickfont": {
                    "color": "grey",
                    "size": 10
                  },
                  "domain": [
                    0.625,
                    1
                  ],
                  "anchor": "x3"
                },
                "yaxis4": {
                  "tickfont": {
                    "color": "grey",
                    "size": 10
                  },
                  "domain": [
                    0,
                    0.375
                  ],
                  "anchor": "x4"
                },
                "yaxis5": {
                  "tickfont": {
                    "color": "grey",
                    "size": 10
                  },
                  "domain": [
                    0,
                    0.375
                  ],
                  "anchor": "x5"
                },
                "template": {
                  "layout": {
                    "shapedefaults": {
                      "line": {
                        "color": "#2a3f5f"
                      }
                    },
                    "polar": {
                      "radialaxis": {
                        "ticks": "",
                        "gridcolor": "white",
                        "linecolor": "white"
                      },
                      "bgcolor": "#E5ECF6",
                      "angularaxis": {
                        "ticks": "",
                        "gridcolor": "white",
                        "linecolor": "white"
                      }
                    },
                    "colorway": [
                      "#636efa",
                      "#EF553B",
                      "#00cc96",
                      "#ab63fa",
                      "#FFA15A",
                      "#19d3f3",
                      "#FF6692",
                      "#B6E880",
                      "#FF97FF",
                      "#FECB52"
                    ],
                    "xaxis": {
                      "automargin": true,
                      "zerolinewidth": 2,
                      "ticks": "",
                      "zerolinecolor": "white",
                      "gridcolor": "white",
                      "linecolor": "white"
                    },
                    "colorscale": {
                      "diverging": [
                        [
                          0,
                          "#8e0152"
                        ],
                        [
                          0.1,
                          "#c51b7d"
                        ],
                        [
                          0.2,
                          "#de77ae"
                        ],
                        [
                          0.3,
                          "#f1b6da"
                        ],
                        [
                          0.4,
                          "#fde0ef"
                        ],
                        [
                          0.5,
                          "#f7f7f7"
                        ],
                        [
                          0.6,
                          "#e6f5d0"
                        ],
                        [
                          0.7,
                          "#b8e186"
                        ],
                        [
                          0.8,
                          "#7fbc41"
                        ],
                        [
                          0.9,
                          "#4d9221"
                        ],
                        [
                          1,
                          "#276419"
                        ]
                      ],
                      "sequential": [
                        [
                          0,
                          "#0d0887"
                        ],
                        [
                          0.1111111111111111,
                          "#46039f"
                        ],
                        [
                          0.2222222222222222,
                          "#7201a8"
                        ],
                        [
                          0.3333333333333333,
                          "#9c179e"
                        ],
                        [
                          0.4444444444444444,
                          "#bd3786"
                        ],
                        [
                          0.5555555555555556,
                          "#d8576b"
                        ],
                        [
                          0.6666666666666666,
                          "#ed7953"
                        ],
                        [
                          0.7777777777777778,
                          "#fb9f3a"
                        ],
                        [
                          0.8888888888888888,
                          "#fdca26"
                        ],
                        [
                          1,
                          "#f0f921"
                        ]
                      ],
                      "sequentialminus": [
                        [
                          0,
                          "#0d0887"
                        ],
                        [
                          0.1111111111111111,
                          "#46039f"
                        ],
                        [
                          0.2222222222222222,
                          "#7201a8"
                        ],
                        [
                          0.3333333333333333,
                          "#9c179e"
                        ],
                        [
                          0.4444444444444444,
                          "#bd3786"
                        ],
                        [
                          0.5555555555555556,
                          "#d8576b"
                        ],
                        [
                          0.6666666666666666,
                          "#ed7953"
                        ],
                        [
                          0.7777777777777778,
                          "#fb9f3a"
                        ],
                        [
                          0.8888888888888888,
                          "#fdca26"
                        ],
                        [
                          1,
                          "#f0f921"
                        ]
                      ]
                    },
                    "paper_bgcolor": "white",
                    "plot_bgcolor": "#E5ECF6",
                    "title": {
                      "x": 0.05
                    },
                    "scene": {
                      "zaxis": {
                        "backgroundcolor": "#E5ECF6",
                        "ticks": "",
                        "gridwidth": 2,
                        "showbackground": true,
                        "zerolinecolor": "white",
                        "gridcolor": "white",
                        "linecolor": "white"
                      },
                      "xaxis": {
                        "backgroundcolor": "#E5ECF6",
                        "ticks": "",
                        "gridwidth": 2,
                        "showbackground": true,
                        "zerolinecolor": "white",
                        "gridcolor": "white",
                        "linecolor": "white"
                      },
                      "yaxis": {
                        "backgroundcolor": "#E5ECF6",
                        "ticks": "",
                        "gridwidth": 2,
                        "showbackground": true,
                        "zerolinecolor": "white",
                        "gridcolor": "white",
                        "linecolor": "white"
                      }
                    },
                    "yaxis": {
                      "automargin": true,
                      "zerolinewidth": 2,
                      "ticks": "",
                      "zerolinecolor": "white",
                      "gridcolor": "white",
                      "linecolor": "white"
                    },
                    "hoverlabel": {
                      "align": "left"
                    },
                    "ternary": {
                      "bgcolor": "#E5ECF6",
                      "baxis": {
                        "ticks": "",
                        "gridcolor": "white",
                        "linecolor": "white"
                      },
                      "caxis": {
                        "ticks": "",
                        "gridcolor": "white",
                        "linecolor": "white"
                      },
                      "aaxis": {
                        "ticks": "",
                        "gridcolor": "white",
                        "linecolor": "white"
                      }
                    },
                    "mapbox": {
                      "style": "light"
                    },
                    "hovermode": "closest",
                    "font": {
                      "color": "#2a3f5f"
                    },
                    "geo": {
                      "showland": true,
                      "landcolor": "#E5ECF6",
                      "showlakes": true,
                      "bgcolor": "white",
                      "subunitcolor": "white",
                      "lakecolor": "white"
                    },
                    "annotationdefaults": {
                      "arrowwidth": 1,
                      "arrowhead": 0,
                      "arrowcolor": "#2a3f5f"
                    }
                  },
                  "data": {
                    "mesh3d": [
                      {
                        "colorbar": {
                          "outlinewidth": 0,
                          "ticks": ""
                        },
                        "type": "mesh3d"
                      }
                    ],
                    "scattercarpet": [
                      {
                        "marker": {
                          "colorbar": {
                            "outlinewidth": 0,
                            "ticks": ""
                          }
                        },
                        "type": "scattercarpet"
                      }
                    ],
                    "scatterternary": [
                      {
                        "marker": {
                          "colorbar": {
                            "outlinewidth": 0,
                            "ticks": ""
                          }
                        },
                        "type": "scatterternary"
                      }
                    ],
                    "surface": [
                      {
                        "colorbar": {
                          "outlinewidth": 0,
                          "ticks": ""
                        },
                        "type": "surface",
                        "colorscale": [
                          [
                            0,
                            "#0d0887"
                          ],
                          [
                            0.1111111111111111,
                            "#46039f"
                          ],
                          [
                            0.2222222222222222,
                            "#7201a8"
                          ],
                          [
                            0.3333333333333333,
                            "#9c179e"
                          ],
                          [
                            0.4444444444444444,
                            "#bd3786"
                          ],
                          [
                            0.5555555555555556,
                            "#d8576b"
                          ],
                          [
                            0.6666666666666666,
                            "#ed7953"
                          ],
                          [
                            0.7777777777777778,
                            "#fb9f3a"
                          ],
                          [
                            0.8888888888888888,
                            "#fdca26"
                          ],
                          [
                            1,
                            "#f0f921"
                          ]
                        ]
                      }
                    ],
                    "table": [
                      {
                        "header": {
                          "line": {
                            "color": "white"
                          },
                          "fill": {
                            "color": "#C8D4E3"
                          }
                        },
                        "cells": {
                          "line": {
                            "color": "white"
                          },
                          "fill": {
                            "color": "#EBF0F8"
                          }
                        },
                        "type": "table"
                      }
                    ],
                    "scatterpolargl": [
                      {
                        "marker": {
                          "colorbar": {
                            "outlinewidth": 0,
                            "ticks": ""
                          }
                        },
                        "type": "scatterpolargl"
                      }
                    ],
                    "contour": [
                      {
                        "colorbar": {
                          "outlinewidth": 0,
                          "ticks": ""
                        },
                        "type": "contour",
                        "colorscale": [
                          [
                            0,
                            "#0d0887"
                          ],
                          [
                            0.1111111111111111,
                            "#46039f"
                          ],
                          [
                            0.2222222222222222,
                            "#7201a8"
                          ],
                          [
                            0.3333333333333333,
                            "#9c179e"
                          ],
                          [
                            0.4444444444444444,
                            "#bd3786"
                          ],
                          [
                            0.5555555555555556,
                            "#d8576b"
                          ],
                          [
                            0.6666666666666666,
                            "#ed7953"
                          ],
                          [
                            0.7777777777777778,
                            "#fb9f3a"
                          ],
                          [
                            0.8888888888888888,
                            "#fdca26"
                          ],
                          [
                            1,
                            "#f0f921"
                          ]
                        ]
                      }
                    ],
                    "carpet": [
                      {
                        "type": "carpet",
                        "baxis": {
                          "minorgridcolor": "white",
                          "gridcolor": "white",
                          "linecolor": "white",
                          "endlinecolor": "#2a3f5f",
                          "startlinecolor": "#2a3f5f"
                        },
                        "aaxis": {
                          "minorgridcolor": "white",
                          "gridcolor": "white",
                          "linecolor": "white",
                          "endlinecolor": "#2a3f5f",
                          "startlinecolor": "#2a3f5f"
                        }
                      }
                    ],
                    "contourcarpet": [
                      {
                        "colorbar": {
                          "outlinewidth": 0,
                          "ticks": ""
                        },
                        "type": "contourcarpet"
                      }
                    ],
                    "heatmap": [
                      {
                        "colorbar": {
                          "outlinewidth": 0,
                          "ticks": ""
                        },
                        "type": "heatmap",
                        "colorscale": [
                          [
                            0,
                            "#0d0887"
                          ],
                          [
                            0.1111111111111111,
                            "#46039f"
                          ],
                          [
                            0.2222222222222222,
                            "#7201a8"
                          ],
                          [
                            0.3333333333333333,
                            "#9c179e"
                          ],
                          [
                            0.4444444444444444,
                            "#bd3786"
                          ],
                          [
                            0.5555555555555556,
                            "#d8576b"
                          ],
                          [
                            0.6666666666666666,
                            "#ed7953"
                          ],
                          [
                            0.7777777777777778,
                            "#fb9f3a"
                          ],
                          [
                            0.8888888888888888,
                            "#fdca26"
                          ],
                          [
                            1,
                            "#f0f921"
                          ]
                        ]
                      }
                    ],
                    "scattermapbox": [
                      {
                        "marker": {
                          "colorbar": {
                            "outlinewidth": 0,
                            "ticks": ""
                          }
                        },
                        "type": "scattermapbox"
                      }
                    ],
                    "scatter3d": [
                      {
                        "marker": {
                          "colorbar": {
                            "outlinewidth": 0,
                            "ticks": ""
                          }
                        },
                        "line": {
                          "colorbar": {
                            "outlinewidth": 0,
                            "ticks": ""
                          }
                        },
                        "type": "scatter3d"
                      }
                    ],
                    "scattergl": [
                      {
                        "marker": {
                          "colorbar": {
                            "outlinewidth": 0,
                            "ticks": ""
                          }
                        },
                        "type": "scattergl"
                      }
                    ],
                    "histogram": [
                      {
                        "marker": {
                          "colorbar": {
                            "outlinewidth": 0,
                            "ticks": ""
                          }
                        },
                        "type": "histogram"
                      }
                    ],
                    "heatmapgl": [
                      {
                        "colorbar": {
                          "outlinewidth": 0,
                          "ticks": ""
                        },
                        "type": "heatmapgl",
                        "colorscale": [
                          [
                            0,
                            "#0d0887"
                          ],
                          [
                            0.1111111111111111,
                            "#46039f"
                          ],
                          [
                            0.2222222222222222,
                            "#7201a8"
                          ],
                          [
                            0.3333333333333333,
                            "#9c179e"
                          ],
                          [
                            0.4444444444444444,
                            "#bd3786"
                          ],
                          [
                            0.5555555555555556,
                            "#d8576b"
                          ],
                          [
                            0.6666666666666666,
                            "#ed7953"
                          ],
                          [
                            0.7777777777777778,
                            "#fb9f3a"
                          ],
                          [
                            0.8888888888888888,
                            "#fdca26"
                          ],
                          [
                            1,
                            "#f0f921"
                          ]
                        ]
                      }
                    ],
                    "scatterpolar": [
                      {
                        "marker": {
                          "colorbar": {
                            "outlinewidth": 0,
                            "ticks": ""
                          }
                        },
                        "type": "scatterpolar"
                      }
                    ],
                    "histogram2d": [
                      {
                        "colorbar": {
                          "outlinewidth": 0,
                          "ticks": ""
                        },
                        "type": "histogram2d",
                        "colorscale": [
                          [
                            0,
                            "#0d0887"
                          ],
                          [
                            0.1111111111111111,
                            "#46039f"
                          ],
                          [
                            0.2222222222222222,
                            "#7201a8"
                          ],
                          [
                            0.3333333333333333,
                            "#9c179e"
                          ],
                          [
                            0.4444444444444444,
                            "#bd3786"
                          ],
                          [
                            0.5555555555555556,
                            "#d8576b"
                          ],
                          [
                            0.6666666666666666,
                            "#ed7953"
                          ],
                          [
                            0.7777777777777778,
                            "#fb9f3a"
                          ],
                          [
                            0.8888888888888888,
                            "#fdca26"
                          ],
                          [
                            1,
                            "#f0f921"
                          ]
                        ]
                      }
                    ],
                    "scattergeo": [
                      {
                        "marker": {
                          "colorbar": {
                            "outlinewidth": 0,
                            "ticks": ""
                          }
                        },
                        "type": "scattergeo"
                      }
                    ],
                    "bar": [
                      {
                        "marker": {
                          "line": {
                            "color": "#E5ECF6",
                            "width": 0.5
                          }
                        },
                        "type": "bar",
                        "error_x": {
                          "color": "#2a3f5f"
                        },
                        "error_y": {
                          "color": "#2a3f5f"
                        }
                      }
                    ],
                    "choropleth": [
                      {
                        "colorbar": {
                          "outlinewidth": 0,
                          "ticks": ""
                        },
                        "type": "choropleth"
                      }
                    ],
                    "parcoords": [
                      {
                        "line": {
                          "colorbar": {
                            "outlinewidth": 0,
                            "ticks": ""
                          }
                        },
                        "type": "parcoords"
                      }
                    ],
                    "barpolar": [
                      {
                        "marker": {
                          "line": {
                            "color": "#E5ECF6",
                            "width": 0.5
                          }
                        },
                        "type": "barpolar"
                      }
                    ],
                    "histogram2dcontour": [
                      {
                        "colorbar": {
                          "outlinewidth": 0,
                          "ticks": ""
                        },
                        "type": "histogram2dcontour",
                        "colorscale": [
                          [
                            0,
                            "#0d0887"
                          ],
                          [
                            0.1111111111111111,
                            "#46039f"
                          ],
                          [
                            0.2222222222222222,
                            "#7201a8"
                          ],
                          [
                            0.3333333333333333,
                            "#9c179e"
                          ],
                          [
                            0.4444444444444444,
                            "#bd3786"
                          ],
                          [
                            0.5555555555555556,
                            "#d8576b"
                          ],
                          [
                            0.6666666666666666,
                            "#ed7953"
                          ],
                          [
                            0.7777777777777778,
                            "#fb9f3a"
                          ],
                          [
                            0.8888888888888888,
                            "#fdca26"
                          ],
                          [
                            1,
                            "#f0f921"
                          ]
                        ]
                      }
                    ],
                    "scatter": [
                      {
                        "marker": {
                          "colorbar": {
                            "outlinewidth": 0,
                            "ticks": ""
                          }
                        },
                        "type": "scatter"
                      }
                    ]
                  }
                },
                "yaxis": {
                  "tickfont": {
                    "color": "grey",
                    "size": 10
                  },
                  "domain": [
                    0.625,
                    1
                  ],
                  "anchor": "x"
                },
                "margin": {
                  "r": 100,
                  "b": 25,
                  "l": 100,
                  "t": 100
                },
                "annotations": [
                  {
                    "yanchor": "bottom",
                    "xref": "paper",
                    "xanchor": "center",
                    "yref": "paper",
                    "text": "toxic",
                    "y": 1,
                    "x": 0.11666666666666665,
                    "font": {
                      "size": 16
                    },
                    "showarrow": false
                  },
                  {
                    "yanchor": "bottom",
                    "xref": "paper",
                    "xanchor": "center",
                    "yref": "paper",
                    "text": "severe_toxic",
                    "y": 1,
                    "x": 0.49999999999999994,
                    "font": {
                      "size": 16
                    },
                    "showarrow": false
                  },
                  {
                    "yanchor": "bottom",
                    "xref": "paper",
                    "xanchor": "center",
                    "yref": "paper",
                    "text": "obscene",
                    "y": 1,
                    "x": 0.8833333333333333,
                    "font": {
                      "size": 16
                    },
                    "showarrow": false
                  },
                  {
                    "yanchor": "bottom",
                    "xref": "paper",
                    "xanchor": "center",
                    "yref": "paper",
                    "text": "threat",
                    "y": 0.375,
                    "x": 0.11666666666666665,
                    "font": {
                      "size": 16
                    },
                    "showarrow": false
                  },
                  {
                    "yanchor": "bottom",
                    "xref": "paper",
                    "xanchor": "center",
                    "yref": "paper",
                    "text": "insult",
                    "y": 0.375,
                    "x": 0.49999999999999994,
                    "font": {
                      "size": 16
                    },
                    "showarrow": false
                  },
                  {
                    "yanchor": "bottom",
                    "xref": "paper",
                    "xanchor": "center",
                    "yref": "paper",
                    "text": "identity_hate",
                    "y": 0.375,
                    "x": 0.8833333333333333,
                    "font": {
                      "size": 16
                    },
                    "showarrow": false
                  }
                ],
                "yaxis6": {
                  "tickfont": {
                    "color": "grey",
                    "size": 10
                  },
                  "domain": [
                    0,
                    0.375
                  ],
                  "anchor": "x6"
                }
              }
            }
          },
          "metadata": {
            "tags": []
          }
        },
        {
          "output_type": "display_data",
          "data": {
            "text/html": [
              "<div>\n",
              "        \n",
              "        \n",
              "            <div id=\"de8d56ee-4715-40c5-99ac-8cc48086eea9\" class=\"plotly-graph-div\" style=\"height:450px; width:900px;\"></div>\n",
              "            <script type=\"text/javascript\">\n",
              "                require([\"plotly\"], function(Plotly) {\n",
              "                    window.PLOTLYENV=window.PLOTLYENV || {};\n",
              "                    \n",
              "                if (document.getElementById(\"de8d56ee-4715-40c5-99ac-8cc48086eea9\")) {\n",
              "                    Plotly.newPlot(\n",
              "                        'de8d56ee-4715-40c5-99ac-8cc48086eea9',\n",
              "                        [{\"colorscale\": [[0.0, \"rgb(255,255,217)\"], [0.125, \"rgb(237,248,177)\"], [0.25, \"rgb(199,233,180)\"], [0.375, \"rgb(127,205,187)\"], [0.5, \"rgb(65,182,196)\"], [0.625, \"rgb(29,145,192)\"], [0.75, \"rgb(34,94,168)\"], [0.875, \"rgb(37,52,148)\"], [1.0, \"rgb(8,29,88)\"]], \"reversescale\": false, \"showscale\": false, \"type\": \"heatmap\", \"x\": [\"toxic\", \"severe_toxic\", \"obscene\", \"threat\", \"insult\", \"identity_hate\"], \"y\": [\"toxic\", \"severe_toxic\", \"obscene\", \"threat\", \"insult\", \"identity_hate\"], \"z\": [[15294, 1595, 7926, 449, 7344, 1302], [1595, 1595, 1517, 112, 1371, 313], [7926, 1517, 8449, 301, 6155, 1032], [449, 112, 301, 478, 307, 98], [7344, 1371, 6155, 307, 7877, 1160], [1302, 313, 1032, 98, 1160, 1405]], \"zmax\": 15294, \"zmin\": 1}],\n",
              "                        {\"annotations\": [{\"font\": {\"color\": \"#FFFFFF\"}, \"showarrow\": false, \"text\": \"15294\", \"x\": \"toxic\", \"xref\": \"x\", \"y\": \"toxic\", \"yref\": \"y\"}, {\"font\": {\"color\": \"#000000\"}, \"showarrow\": false, \"text\": \"1595\", \"x\": \"severe_toxic\", \"xref\": \"x\", \"y\": \"toxic\", \"yref\": \"y\"}, {\"font\": {\"color\": \"#FFFFFF\"}, \"showarrow\": false, \"text\": \"7926\", \"x\": \"obscene\", \"xref\": \"x\", \"y\": \"toxic\", \"yref\": \"y\"}, {\"font\": {\"color\": \"#000000\"}, \"showarrow\": false, \"text\": \"449\", \"x\": \"threat\", \"xref\": \"x\", \"y\": \"toxic\", \"yref\": \"y\"}, {\"font\": {\"color\": \"#000000\"}, \"showarrow\": false, \"text\": \"7344\", \"x\": \"insult\", \"xref\": \"x\", \"y\": \"toxic\", \"yref\": \"y\"}, {\"font\": {\"color\": \"#000000\"}, \"showarrow\": false, \"text\": \"1302\", \"x\": \"identity_hate\", \"xref\": \"x\", \"y\": \"toxic\", \"yref\": \"y\"}, {\"font\": {\"color\": \"#000000\"}, \"showarrow\": false, \"text\": \"1595\", \"x\": \"toxic\", \"xref\": \"x\", \"y\": \"severe_toxic\", \"yref\": \"y\"}, {\"font\": {\"color\": \"#000000\"}, \"showarrow\": false, \"text\": \"1595\", \"x\": \"severe_toxic\", \"xref\": \"x\", \"y\": \"severe_toxic\", \"yref\": \"y\"}, {\"font\": {\"color\": \"#000000\"}, \"showarrow\": false, \"text\": \"1517\", \"x\": \"obscene\", \"xref\": \"x\", \"y\": \"severe_toxic\", \"yref\": \"y\"}, {\"font\": {\"color\": \"#000000\"}, \"showarrow\": false, \"text\": \"112\", \"x\": \"threat\", \"xref\": \"x\", \"y\": \"severe_toxic\", \"yref\": \"y\"}, {\"font\": {\"color\": \"#000000\"}, \"showarrow\": false, \"text\": \"1371\", \"x\": \"insult\", \"xref\": \"x\", \"y\": \"severe_toxic\", \"yref\": \"y\"}, {\"font\": {\"color\": \"#000000\"}, \"showarrow\": false, \"text\": \"313\", \"x\": \"identity_hate\", \"xref\": \"x\", \"y\": \"severe_toxic\", \"yref\": \"y\"}, {\"font\": {\"color\": \"#FFFFFF\"}, \"showarrow\": false, \"text\": \"7926\", \"x\": \"toxic\", \"xref\": \"x\", \"y\": \"obscene\", \"yref\": \"y\"}, {\"font\": {\"color\": \"#000000\"}, \"showarrow\": false, \"text\": \"1517\", \"x\": \"severe_toxic\", \"xref\": \"x\", \"y\": \"obscene\", \"yref\": \"y\"}, {\"font\": {\"color\": \"#FFFFFF\"}, \"showarrow\": false, \"text\": \"8449\", \"x\": \"obscene\", \"xref\": \"x\", \"y\": \"obscene\", \"yref\": \"y\"}, {\"font\": {\"color\": \"#000000\"}, \"showarrow\": false, \"text\": \"301\", \"x\": \"threat\", \"xref\": \"x\", \"y\": \"obscene\", \"yref\": \"y\"}, {\"font\": {\"color\": \"#000000\"}, \"showarrow\": false, \"text\": \"6155\", \"x\": \"insult\", \"xref\": \"x\", \"y\": \"obscene\", \"yref\": \"y\"}, {\"font\": {\"color\": \"#000000\"}, \"showarrow\": false, \"text\": \"1032\", \"x\": \"identity_hate\", \"xref\": \"x\", \"y\": \"obscene\", \"yref\": \"y\"}, {\"font\": {\"color\": \"#000000\"}, \"showarrow\": false, \"text\": \"449\", \"x\": \"toxic\", \"xref\": \"x\", \"y\": \"threat\", \"yref\": \"y\"}, {\"font\": {\"color\": \"#000000\"}, \"showarrow\": false, \"text\": \"112\", \"x\": \"severe_toxic\", \"xref\": \"x\", \"y\": \"threat\", \"yref\": \"y\"}, {\"font\": {\"color\": \"#000000\"}, \"showarrow\": false, \"text\": \"301\", \"x\": \"obscene\", \"xref\": \"x\", \"y\": \"threat\", \"yref\": \"y\"}, {\"font\": {\"color\": \"#000000\"}, \"showarrow\": false, \"text\": \"478\", \"x\": \"threat\", \"xref\": \"x\", \"y\": \"threat\", \"yref\": \"y\"}, {\"font\": {\"color\": \"#000000\"}, \"showarrow\": false, \"text\": \"307\", \"x\": \"insult\", \"xref\": \"x\", \"y\": \"threat\", \"yref\": \"y\"}, {\"font\": {\"color\": \"#000000\"}, \"showarrow\": false, \"text\": \"98\", \"x\": \"identity_hate\", \"xref\": \"x\", \"y\": \"threat\", \"yref\": \"y\"}, {\"font\": {\"color\": \"#000000\"}, \"showarrow\": false, \"text\": \"7344\", \"x\": \"toxic\", \"xref\": \"x\", \"y\": \"insult\", \"yref\": \"y\"}, {\"font\": {\"color\": \"#000000\"}, \"showarrow\": false, \"text\": \"1371\", \"x\": \"severe_toxic\", \"xref\": \"x\", \"y\": \"insult\", \"yref\": \"y\"}, {\"font\": {\"color\": \"#000000\"}, \"showarrow\": false, \"text\": \"6155\", \"x\": \"obscene\", \"xref\": \"x\", \"y\": \"insult\", \"yref\": \"y\"}, {\"font\": {\"color\": \"#000000\"}, \"showarrow\": false, \"text\": \"307\", \"x\": \"threat\", \"xref\": \"x\", \"y\": \"insult\", \"yref\": \"y\"}, {\"font\": {\"color\": \"#FFFFFF\"}, \"showarrow\": false, \"text\": \"7877\", \"x\": \"insult\", \"xref\": \"x\", \"y\": \"insult\", \"yref\": \"y\"}, {\"font\": {\"color\": \"#000000\"}, \"showarrow\": false, \"text\": \"1160\", \"x\": \"identity_hate\", \"xref\": \"x\", \"y\": \"insult\", \"yref\": \"y\"}, {\"font\": {\"color\": \"#000000\"}, \"showarrow\": false, \"text\": \"1302\", \"x\": \"toxic\", \"xref\": \"x\", \"y\": \"identity_hate\", \"yref\": \"y\"}, {\"font\": {\"color\": \"#000000\"}, \"showarrow\": false, \"text\": \"313\", \"x\": \"severe_toxic\", \"xref\": \"x\", \"y\": \"identity_hate\", \"yref\": \"y\"}, {\"font\": {\"color\": \"#000000\"}, \"showarrow\": false, \"text\": \"1032\", \"x\": \"obscene\", \"xref\": \"x\", \"y\": \"identity_hate\", \"yref\": \"y\"}, {\"font\": {\"color\": \"#000000\"}, \"showarrow\": false, \"text\": \"98\", \"x\": \"threat\", \"xref\": \"x\", \"y\": \"identity_hate\", \"yref\": \"y\"}, {\"font\": {\"color\": \"#000000\"}, \"showarrow\": false, \"text\": \"1160\", \"x\": \"insult\", \"xref\": \"x\", \"y\": \"identity_hate\", \"yref\": \"y\"}, {\"font\": {\"color\": \"#000000\"}, \"showarrow\": false, \"text\": \"1405\", \"x\": \"identity_hate\", \"xref\": \"x\", \"y\": \"identity_hate\", \"yref\": \"y\"}], \"autosize\": false, \"height\": 450, \"margin\": {\"b\": 75, \"l\": 150, \"r\": 150, \"t\": 150}, \"template\": {\"data\": {\"bar\": [{\"error_x\": {\"color\": \"#2a3f5f\"}, \"error_y\": {\"color\": \"#2a3f5f\"}, \"marker\": {\"line\": {\"color\": \"#E5ECF6\", \"width\": 0.5}}, \"type\": \"bar\"}], \"barpolar\": [{\"marker\": {\"line\": {\"color\": \"#E5ECF6\", \"width\": 0.5}}, \"type\": \"barpolar\"}], \"carpet\": [{\"aaxis\": {\"endlinecolor\": \"#2a3f5f\", \"gridcolor\": \"white\", \"linecolor\": \"white\", \"minorgridcolor\": \"white\", \"startlinecolor\": \"#2a3f5f\"}, \"baxis\": {\"endlinecolor\": \"#2a3f5f\", \"gridcolor\": \"white\", \"linecolor\": \"white\", \"minorgridcolor\": \"white\", \"startlinecolor\": \"#2a3f5f\"}, \"type\": \"carpet\"}], \"choropleth\": [{\"colorbar\": {\"outlinewidth\": 0, \"ticks\": \"\"}, \"type\": \"choropleth\"}], \"contour\": [{\"colorbar\": {\"outlinewidth\": 0, \"ticks\": \"\"}, \"colorscale\": [[0.0, \"#0d0887\"], [0.1111111111111111, \"#46039f\"], [0.2222222222222222, \"#7201a8\"], [0.3333333333333333, \"#9c179e\"], [0.4444444444444444, \"#bd3786\"], [0.5555555555555556, \"#d8576b\"], [0.6666666666666666, \"#ed7953\"], [0.7777777777777778, \"#fb9f3a\"], [0.8888888888888888, \"#fdca26\"], [1.0, \"#f0f921\"]], \"type\": \"contour\"}], \"contourcarpet\": [{\"colorbar\": {\"outlinewidth\": 0, \"ticks\": \"\"}, \"type\": \"contourcarpet\"}], \"heatmap\": [{\"colorbar\": {\"outlinewidth\": 0, \"ticks\": \"\"}, \"colorscale\": [[0.0, \"#0d0887\"], [0.1111111111111111, \"#46039f\"], [0.2222222222222222, \"#7201a8\"], [0.3333333333333333, \"#9c179e\"], [0.4444444444444444, \"#bd3786\"], [0.5555555555555556, \"#d8576b\"], [0.6666666666666666, \"#ed7953\"], [0.7777777777777778, \"#fb9f3a\"], [0.8888888888888888, \"#fdca26\"], [1.0, \"#f0f921\"]], \"type\": \"heatmap\"}], \"heatmapgl\": [{\"colorbar\": {\"outlinewidth\": 0, \"ticks\": \"\"}, \"colorscale\": [[0.0, \"#0d0887\"], [0.1111111111111111, \"#46039f\"], [0.2222222222222222, \"#7201a8\"], [0.3333333333333333, \"#9c179e\"], [0.4444444444444444, \"#bd3786\"], [0.5555555555555556, \"#d8576b\"], [0.6666666666666666, \"#ed7953\"], [0.7777777777777778, \"#fb9f3a\"], [0.8888888888888888, \"#fdca26\"], [1.0, \"#f0f921\"]], \"type\": \"heatmapgl\"}], \"histogram\": [{\"marker\": {\"colorbar\": {\"outlinewidth\": 0, \"ticks\": \"\"}}, \"type\": \"histogram\"}], \"histogram2d\": [{\"colorbar\": {\"outlinewidth\": 0, \"ticks\": \"\"}, \"colorscale\": [[0.0, \"#0d0887\"], [0.1111111111111111, \"#46039f\"], [0.2222222222222222, \"#7201a8\"], [0.3333333333333333, \"#9c179e\"], [0.4444444444444444, \"#bd3786\"], [0.5555555555555556, \"#d8576b\"], [0.6666666666666666, \"#ed7953\"], [0.7777777777777778, \"#fb9f3a\"], [0.8888888888888888, \"#fdca26\"], [1.0, \"#f0f921\"]], \"type\": \"histogram2d\"}], \"histogram2dcontour\": [{\"colorbar\": {\"outlinewidth\": 0, \"ticks\": \"\"}, \"colorscale\": [[0.0, \"#0d0887\"], [0.1111111111111111, \"#46039f\"], [0.2222222222222222, \"#7201a8\"], [0.3333333333333333, \"#9c179e\"], [0.4444444444444444, \"#bd3786\"], [0.5555555555555556, \"#d8576b\"], [0.6666666666666666, \"#ed7953\"], [0.7777777777777778, \"#fb9f3a\"], [0.8888888888888888, \"#fdca26\"], [1.0, \"#f0f921\"]], \"type\": \"histogram2dcontour\"}], \"mesh3d\": [{\"colorbar\": {\"outlinewidth\": 0, \"ticks\": \"\"}, \"type\": \"mesh3d\"}], \"parcoords\": [{\"line\": {\"colorbar\": {\"outlinewidth\": 0, \"ticks\": \"\"}}, \"type\": \"parcoords\"}], \"scatter\": [{\"marker\": {\"colorbar\": {\"outlinewidth\": 0, \"ticks\": \"\"}}, \"type\": \"scatter\"}], \"scatter3d\": [{\"line\": {\"colorbar\": {\"outlinewidth\": 0, \"ticks\": \"\"}}, \"marker\": {\"colorbar\": {\"outlinewidth\": 0, \"ticks\": \"\"}}, \"type\": \"scatter3d\"}], \"scattercarpet\": [{\"marker\": {\"colorbar\": {\"outlinewidth\": 0, \"ticks\": \"\"}}, \"type\": \"scattercarpet\"}], \"scattergeo\": [{\"marker\": {\"colorbar\": {\"outlinewidth\": 0, \"ticks\": \"\"}}, \"type\": \"scattergeo\"}], \"scattergl\": [{\"marker\": {\"colorbar\": {\"outlinewidth\": 0, \"ticks\": \"\"}}, \"type\": \"scattergl\"}], \"scattermapbox\": [{\"marker\": {\"colorbar\": {\"outlinewidth\": 0, \"ticks\": \"\"}}, \"type\": \"scattermapbox\"}], \"scatterpolar\": [{\"marker\": {\"colorbar\": {\"outlinewidth\": 0, \"ticks\": \"\"}}, \"type\": \"scatterpolar\"}], \"scatterpolargl\": [{\"marker\": {\"colorbar\": {\"outlinewidth\": 0, \"ticks\": \"\"}}, \"type\": \"scatterpolargl\"}], \"scatterternary\": [{\"marker\": {\"colorbar\": {\"outlinewidth\": 0, \"ticks\": \"\"}}, \"type\": \"scatterternary\"}], \"surface\": [{\"colorbar\": {\"outlinewidth\": 0, \"ticks\": \"\"}, \"colorscale\": [[0.0, \"#0d0887\"], [0.1111111111111111, \"#46039f\"], [0.2222222222222222, \"#7201a8\"], [0.3333333333333333, \"#9c179e\"], [0.4444444444444444, \"#bd3786\"], [0.5555555555555556, \"#d8576b\"], [0.6666666666666666, \"#ed7953\"], [0.7777777777777778, \"#fb9f3a\"], [0.8888888888888888, \"#fdca26\"], [1.0, \"#f0f921\"]], \"type\": \"surface\"}], \"table\": [{\"cells\": {\"fill\": {\"color\": \"#EBF0F8\"}, \"line\": {\"color\": \"white\"}}, \"header\": {\"fill\": {\"color\": \"#C8D4E3\"}, \"line\": {\"color\": \"white\"}}, \"type\": \"table\"}]}, \"layout\": {\"annotationdefaults\": {\"arrowcolor\": \"#2a3f5f\", \"arrowhead\": 0, \"arrowwidth\": 1}, \"colorscale\": {\"diverging\": [[0, \"#8e0152\"], [0.1, \"#c51b7d\"], [0.2, \"#de77ae\"], [0.3, \"#f1b6da\"], [0.4, \"#fde0ef\"], [0.5, \"#f7f7f7\"], [0.6, \"#e6f5d0\"], [0.7, \"#b8e186\"], [0.8, \"#7fbc41\"], [0.9, \"#4d9221\"], [1, \"#276419\"]], \"sequential\": [[0.0, \"#0d0887\"], [0.1111111111111111, \"#46039f\"], [0.2222222222222222, \"#7201a8\"], [0.3333333333333333, \"#9c179e\"], [0.4444444444444444, \"#bd3786\"], [0.5555555555555556, \"#d8576b\"], [0.6666666666666666, \"#ed7953\"], [0.7777777777777778, \"#fb9f3a\"], [0.8888888888888888, \"#fdca26\"], [1.0, \"#f0f921\"]], \"sequentialminus\": [[0.0, \"#0d0887\"], [0.1111111111111111, \"#46039f\"], [0.2222222222222222, \"#7201a8\"], [0.3333333333333333, \"#9c179e\"], [0.4444444444444444, \"#bd3786\"], [0.5555555555555556, \"#d8576b\"], [0.6666666666666666, \"#ed7953\"], [0.7777777777777778, \"#fb9f3a\"], [0.8888888888888888, \"#fdca26\"], [1.0, \"#f0f921\"]]}, \"colorway\": [\"#636efa\", \"#EF553B\", \"#00cc96\", \"#ab63fa\", \"#FFA15A\", \"#19d3f3\", \"#FF6692\", \"#B6E880\", \"#FF97FF\", \"#FECB52\"], \"font\": {\"color\": \"#2a3f5f\"}, \"geo\": {\"bgcolor\": \"white\", \"lakecolor\": \"white\", \"landcolor\": \"#E5ECF6\", \"showlakes\": true, \"showland\": true, \"subunitcolor\": \"white\"}, \"hoverlabel\": {\"align\": \"left\"}, \"hovermode\": \"closest\", \"mapbox\": {\"style\": \"light\"}, \"paper_bgcolor\": \"white\", \"plot_bgcolor\": \"#E5ECF6\", \"polar\": {\"angularaxis\": {\"gridcolor\": \"white\", \"linecolor\": \"white\", \"ticks\": \"\"}, \"bgcolor\": \"#E5ECF6\", \"radialaxis\": {\"gridcolor\": \"white\", \"linecolor\": \"white\", \"ticks\": \"\"}}, \"scene\": {\"xaxis\": {\"backgroundcolor\": \"#E5ECF6\", \"gridcolor\": \"white\", \"gridwidth\": 2, \"linecolor\": \"white\", \"showbackground\": true, \"ticks\": \"\", \"zerolinecolor\": \"white\"}, \"yaxis\": {\"backgroundcolor\": \"#E5ECF6\", \"gridcolor\": \"white\", \"gridwidth\": 2, \"linecolor\": \"white\", \"showbackground\": true, \"ticks\": \"\", \"zerolinecolor\": \"white\"}, \"zaxis\": {\"backgroundcolor\": \"#E5ECF6\", \"gridcolor\": \"white\", \"gridwidth\": 2, \"linecolor\": \"white\", \"showbackground\": true, \"ticks\": \"\", \"zerolinecolor\": \"white\"}}, \"shapedefaults\": {\"line\": {\"color\": \"#2a3f5f\"}}, \"ternary\": {\"aaxis\": {\"gridcolor\": \"white\", \"linecolor\": \"white\", \"ticks\": \"\"}, \"baxis\": {\"gridcolor\": \"white\", \"linecolor\": \"white\", \"ticks\": \"\"}, \"bgcolor\": \"#E5ECF6\", \"caxis\": {\"gridcolor\": \"white\", \"linecolor\": \"white\", \"ticks\": \"\"}}, \"title\": {\"x\": 0.05}, \"xaxis\": {\"automargin\": true, \"gridcolor\": \"white\", \"linecolor\": \"white\", \"ticks\": \"\", \"zerolinecolor\": \"white\", \"zerolinewidth\": 2}, \"yaxis\": {\"automargin\": true, \"gridcolor\": \"white\", \"linecolor\": \"white\", \"ticks\": \"\", \"zerolinecolor\": \"white\", \"zerolinewidth\": 2}}}, \"title\": {\"text\": \"<b>Co-occurrence of comment types</b>\"}, \"width\": 900, \"xaxis\": {\"dtick\": 1, \"gridcolor\": \"rgb(0, 0, 0)\", \"side\": \"bottom\", \"tickfont\": {\"color\": \"grey\"}, \"ticks\": \"\", \"title\": {\"text\": \"Major comment category\"}}, \"yaxis\": {\"dtick\": 1, \"tickfont\": {\"color\": \"grey\"}, \"ticks\": \"\", \"ticksuffix\": \"  \", \"title\": {\"text\": \"Co-occurring comment category\"}}},\n",
              "                        {\"responsive\": true}\n",
              "                    ).then(function(){\n",
              "                            \n",
              "var gd = document.getElementById('de8d56ee-4715-40c5-99ac-8cc48086eea9');\n",
              "var x = new MutationObserver(function (mutations, observer) {{\n",
              "        var display = window.getComputedStyle(gd).display;\n",
              "        if (!display || display === 'none') {{\n",
              "            console.log([gd, 'removed!']);\n",
              "            Plotly.purge(gd);\n",
              "            observer.disconnect();\n",
              "        }}\n",
              "}});\n",
              "\n",
              "// Listen for the removal of the full notebook cells\n",
              "var notebookContainer = gd.closest('#notebook-container');\n",
              "if (notebookContainer) {{\n",
              "    x.observe(notebookContainer, {childList: true});\n",
              "}}\n",
              "\n",
              "// Listen for the clearing of the current output cell\n",
              "var outputEl = gd.closest('.output');\n",
              "if (outputEl) {{\n",
              "    x.observe(outputEl, {childList: true});\n",
              "}}\n",
              "\n",
              "                        })\n",
              "                };\n",
              "                });\n",
              "            </script>\n",
              "        </div>"
            ],
            "application/vnd.plotly.v1+json": {
              "data": [
                {
                  "zmax": 15294,
                  "colorscale": [
                    [
                      0,
                      "rgb(255,255,217)"
                    ],
                    [
                      0.125,
                      "rgb(237,248,177)"
                    ],
                    [
                      0.25,
                      "rgb(199,233,180)"
                    ],
                    [
                      0.375,
                      "rgb(127,205,187)"
                    ],
                    [
                      0.5,
                      "rgb(65,182,196)"
                    ],
                    [
                      0.625,
                      "rgb(29,145,192)"
                    ],
                    [
                      0.75,
                      "rgb(34,94,168)"
                    ],
                    [
                      0.875,
                      "rgb(37,52,148)"
                    ],
                    [
                      1,
                      "rgb(8,29,88)"
                    ]
                  ],
                  "zmin": 1,
                  "reversescale": false,
                  "showscale": false,
                  "y": [
                    "toxic",
                    "severe_toxic",
                    "obscene",
                    "threat",
                    "insult",
                    "identity_hate"
                  ],
                  "x": [
                    "toxic",
                    "severe_toxic",
                    "obscene",
                    "threat",
                    "insult",
                    "identity_hate"
                  ],
                  "z": [
                    [
                      15294,
                      1595,
                      7926,
                      449,
                      7344,
                      1302
                    ],
                    [
                      1595,
                      1595,
                      1517,
                      112,
                      1371,
                      313
                    ],
                    [
                      7926,
                      1517,
                      8449,
                      301,
                      6155,
                      1032
                    ],
                    [
                      449,
                      112,
                      301,
                      478,
                      307,
                      98
                    ],
                    [
                      7344,
                      1371,
                      6155,
                      307,
                      7877,
                      1160
                    ],
                    [
                      1302,
                      313,
                      1032,
                      98,
                      1160,
                      1405
                    ]
                  ],
                  "type": "heatmap"
                }
              ],
              "config": {
                "plotlyServerURL": "https://plot.ly",
                "linkText": "Export to plot.ly",
                "showLink": false
              },
              "layout": {
                "autosize": false,
                "xaxis": {
                  "tickfont": {
                    "color": "grey"
                  },
                  "title": {
                    "text": "Major comment category"
                  },
                  "ticks": "",
                  "dtick": 1,
                  "gridcolor": "rgb(0, 0, 0)",
                  "side": "bottom"
                },
                "title": {
                  "text": "<b>Co-occurrence of comment types</b>"
                },
                "yaxis": {
                  "tickfont": {
                    "color": "grey"
                  },
                  "ticks": "",
                  "ticksuffix": "  ",
                  "dtick": 1,
                  "title": {
                    "text": "Co-occurring comment category"
                  }
                },
                "height": 450,
                "width": 900,
                "template": {
                  "layout": {
                    "shapedefaults": {
                      "line": {
                        "color": "#2a3f5f"
                      }
                    },
                    "polar": {
                      "radialaxis": {
                        "ticks": "",
                        "gridcolor": "white",
                        "linecolor": "white"
                      },
                      "bgcolor": "#E5ECF6",
                      "angularaxis": {
                        "ticks": "",
                        "gridcolor": "white",
                        "linecolor": "white"
                      }
                    },
                    "colorway": [
                      "#636efa",
                      "#EF553B",
                      "#00cc96",
                      "#ab63fa",
                      "#FFA15A",
                      "#19d3f3",
                      "#FF6692",
                      "#B6E880",
                      "#FF97FF",
                      "#FECB52"
                    ],
                    "xaxis": {
                      "automargin": true,
                      "zerolinewidth": 2,
                      "ticks": "",
                      "zerolinecolor": "white",
                      "gridcolor": "white",
                      "linecolor": "white"
                    },
                    "colorscale": {
                      "diverging": [
                        [
                          0,
                          "#8e0152"
                        ],
                        [
                          0.1,
                          "#c51b7d"
                        ],
                        [
                          0.2,
                          "#de77ae"
                        ],
                        [
                          0.3,
                          "#f1b6da"
                        ],
                        [
                          0.4,
                          "#fde0ef"
                        ],
                        [
                          0.5,
                          "#f7f7f7"
                        ],
                        [
                          0.6,
                          "#e6f5d0"
                        ],
                        [
                          0.7,
                          "#b8e186"
                        ],
                        [
                          0.8,
                          "#7fbc41"
                        ],
                        [
                          0.9,
                          "#4d9221"
                        ],
                        [
                          1,
                          "#276419"
                        ]
                      ],
                      "sequential": [
                        [
                          0,
                          "#0d0887"
                        ],
                        [
                          0.1111111111111111,
                          "#46039f"
                        ],
                        [
                          0.2222222222222222,
                          "#7201a8"
                        ],
                        [
                          0.3333333333333333,
                          "#9c179e"
                        ],
                        [
                          0.4444444444444444,
                          "#bd3786"
                        ],
                        [
                          0.5555555555555556,
                          "#d8576b"
                        ],
                        [
                          0.6666666666666666,
                          "#ed7953"
                        ],
                        [
                          0.7777777777777778,
                          "#fb9f3a"
                        ],
                        [
                          0.8888888888888888,
                          "#fdca26"
                        ],
                        [
                          1,
                          "#f0f921"
                        ]
                      ],
                      "sequentialminus": [
                        [
                          0,
                          "#0d0887"
                        ],
                        [
                          0.1111111111111111,
                          "#46039f"
                        ],
                        [
                          0.2222222222222222,
                          "#7201a8"
                        ],
                        [
                          0.3333333333333333,
                          "#9c179e"
                        ],
                        [
                          0.4444444444444444,
                          "#bd3786"
                        ],
                        [
                          0.5555555555555556,
                          "#d8576b"
                        ],
                        [
                          0.6666666666666666,
                          "#ed7953"
                        ],
                        [
                          0.7777777777777778,
                          "#fb9f3a"
                        ],
                        [
                          0.8888888888888888,
                          "#fdca26"
                        ],
                        [
                          1,
                          "#f0f921"
                        ]
                      ]
                    },
                    "paper_bgcolor": "white",
                    "plot_bgcolor": "#E5ECF6",
                    "title": {
                      "x": 0.05
                    },
                    "scene": {
                      "zaxis": {
                        "backgroundcolor": "#E5ECF6",
                        "ticks": "",
                        "gridwidth": 2,
                        "showbackground": true,
                        "zerolinecolor": "white",
                        "gridcolor": "white",
                        "linecolor": "white"
                      },
                      "xaxis": {
                        "backgroundcolor": "#E5ECF6",
                        "ticks": "",
                        "gridwidth": 2,
                        "showbackground": true,
                        "zerolinecolor": "white",
                        "gridcolor": "white",
                        "linecolor": "white"
                      },
                      "yaxis": {
                        "backgroundcolor": "#E5ECF6",
                        "ticks": "",
                        "gridwidth": 2,
                        "showbackground": true,
                        "zerolinecolor": "white",
                        "gridcolor": "white",
                        "linecolor": "white"
                      }
                    },
                    "yaxis": {
                      "automargin": true,
                      "zerolinewidth": 2,
                      "ticks": "",
                      "zerolinecolor": "white",
                      "gridcolor": "white",
                      "linecolor": "white"
                    },
                    "hoverlabel": {
                      "align": "left"
                    },
                    "ternary": {
                      "bgcolor": "#E5ECF6",
                      "baxis": {
                        "ticks": "",
                        "gridcolor": "white",
                        "linecolor": "white"
                      },
                      "caxis": {
                        "ticks": "",
                        "gridcolor": "white",
                        "linecolor": "white"
                      },
                      "aaxis": {
                        "ticks": "",
                        "gridcolor": "white",
                        "linecolor": "white"
                      }
                    },
                    "mapbox": {
                      "style": "light"
                    },
                    "hovermode": "closest",
                    "font": {
                      "color": "#2a3f5f"
                    },
                    "geo": {
                      "showland": true,
                      "landcolor": "#E5ECF6",
                      "showlakes": true,
                      "bgcolor": "white",
                      "subunitcolor": "white",
                      "lakecolor": "white"
                    },
                    "annotationdefaults": {
                      "arrowwidth": 1,
                      "arrowhead": 0,
                      "arrowcolor": "#2a3f5f"
                    }
                  },
                  "data": {
                    "mesh3d": [
                      {
                        "colorbar": {
                          "outlinewidth": 0,
                          "ticks": ""
                        },
                        "type": "mesh3d"
                      }
                    ],
                    "scattercarpet": [
                      {
                        "marker": {
                          "colorbar": {
                            "outlinewidth": 0,
                            "ticks": ""
                          }
                        },
                        "type": "scattercarpet"
                      }
                    ],
                    "scatterternary": [
                      {
                        "marker": {
                          "colorbar": {
                            "outlinewidth": 0,
                            "ticks": ""
                          }
                        },
                        "type": "scatterternary"
                      }
                    ],
                    "surface": [
                      {
                        "colorbar": {
                          "outlinewidth": 0,
                          "ticks": ""
                        },
                        "type": "surface",
                        "colorscale": [
                          [
                            0,
                            "#0d0887"
                          ],
                          [
                            0.1111111111111111,
                            "#46039f"
                          ],
                          [
                            0.2222222222222222,
                            "#7201a8"
                          ],
                          [
                            0.3333333333333333,
                            "#9c179e"
                          ],
                          [
                            0.4444444444444444,
                            "#bd3786"
                          ],
                          [
                            0.5555555555555556,
                            "#d8576b"
                          ],
                          [
                            0.6666666666666666,
                            "#ed7953"
                          ],
                          [
                            0.7777777777777778,
                            "#fb9f3a"
                          ],
                          [
                            0.8888888888888888,
                            "#fdca26"
                          ],
                          [
                            1,
                            "#f0f921"
                          ]
                        ]
                      }
                    ],
                    "table": [
                      {
                        "header": {
                          "line": {
                            "color": "white"
                          },
                          "fill": {
                            "color": "#C8D4E3"
                          }
                        },
                        "cells": {
                          "line": {
                            "color": "white"
                          },
                          "fill": {
                            "color": "#EBF0F8"
                          }
                        },
                        "type": "table"
                      }
                    ],
                    "scatterpolargl": [
                      {
                        "marker": {
                          "colorbar": {
                            "outlinewidth": 0,
                            "ticks": ""
                          }
                        },
                        "type": "scatterpolargl"
                      }
                    ],
                    "contour": [
                      {
                        "colorbar": {
                          "outlinewidth": 0,
                          "ticks": ""
                        },
                        "type": "contour",
                        "colorscale": [
                          [
                            0,
                            "#0d0887"
                          ],
                          [
                            0.1111111111111111,
                            "#46039f"
                          ],
                          [
                            0.2222222222222222,
                            "#7201a8"
                          ],
                          [
                            0.3333333333333333,
                            "#9c179e"
                          ],
                          [
                            0.4444444444444444,
                            "#bd3786"
                          ],
                          [
                            0.5555555555555556,
                            "#d8576b"
                          ],
                          [
                            0.6666666666666666,
                            "#ed7953"
                          ],
                          [
                            0.7777777777777778,
                            "#fb9f3a"
                          ],
                          [
                            0.8888888888888888,
                            "#fdca26"
                          ],
                          [
                            1,
                            "#f0f921"
                          ]
                        ]
                      }
                    ],
                    "carpet": [
                      {
                        "type": "carpet",
                        "baxis": {
                          "minorgridcolor": "white",
                          "gridcolor": "white",
                          "linecolor": "white",
                          "endlinecolor": "#2a3f5f",
                          "startlinecolor": "#2a3f5f"
                        },
                        "aaxis": {
                          "minorgridcolor": "white",
                          "gridcolor": "white",
                          "linecolor": "white",
                          "endlinecolor": "#2a3f5f",
                          "startlinecolor": "#2a3f5f"
                        }
                      }
                    ],
                    "contourcarpet": [
                      {
                        "colorbar": {
                          "outlinewidth": 0,
                          "ticks": ""
                        },
                        "type": "contourcarpet"
                      }
                    ],
                    "heatmap": [
                      {
                        "colorbar": {
                          "outlinewidth": 0,
                          "ticks": ""
                        },
                        "type": "heatmap",
                        "colorscale": [
                          [
                            0,
                            "#0d0887"
                          ],
                          [
                            0.1111111111111111,
                            "#46039f"
                          ],
                          [
                            0.2222222222222222,
                            "#7201a8"
                          ],
                          [
                            0.3333333333333333,
                            "#9c179e"
                          ],
                          [
                            0.4444444444444444,
                            "#bd3786"
                          ],
                          [
                            0.5555555555555556,
                            "#d8576b"
                          ],
                          [
                            0.6666666666666666,
                            "#ed7953"
                          ],
                          [
                            0.7777777777777778,
                            "#fb9f3a"
                          ],
                          [
                            0.8888888888888888,
                            "#fdca26"
                          ],
                          [
                            1,
                            "#f0f921"
                          ]
                        ]
                      }
                    ],
                    "scattermapbox": [
                      {
                        "marker": {
                          "colorbar": {
                            "outlinewidth": 0,
                            "ticks": ""
                          }
                        },
                        "type": "scattermapbox"
                      }
                    ],
                    "scatter3d": [
                      {
                        "marker": {
                          "colorbar": {
                            "outlinewidth": 0,
                            "ticks": ""
                          }
                        },
                        "line": {
                          "colorbar": {
                            "outlinewidth": 0,
                            "ticks": ""
                          }
                        },
                        "type": "scatter3d"
                      }
                    ],
                    "scattergl": [
                      {
                        "marker": {
                          "colorbar": {
                            "outlinewidth": 0,
                            "ticks": ""
                          }
                        },
                        "type": "scattergl"
                      }
                    ],
                    "histogram": [
                      {
                        "marker": {
                          "colorbar": {
                            "outlinewidth": 0,
                            "ticks": ""
                          }
                        },
                        "type": "histogram"
                      }
                    ],
                    "heatmapgl": [
                      {
                        "colorbar": {
                          "outlinewidth": 0,
                          "ticks": ""
                        },
                        "type": "heatmapgl",
                        "colorscale": [
                          [
                            0,
                            "#0d0887"
                          ],
                          [
                            0.1111111111111111,
                            "#46039f"
                          ],
                          [
                            0.2222222222222222,
                            "#7201a8"
                          ],
                          [
                            0.3333333333333333,
                            "#9c179e"
                          ],
                          [
                            0.4444444444444444,
                            "#bd3786"
                          ],
                          [
                            0.5555555555555556,
                            "#d8576b"
                          ],
                          [
                            0.6666666666666666,
                            "#ed7953"
                          ],
                          [
                            0.7777777777777778,
                            "#fb9f3a"
                          ],
                          [
                            0.8888888888888888,
                            "#fdca26"
                          ],
                          [
                            1,
                            "#f0f921"
                          ]
                        ]
                      }
                    ],
                    "scatterpolar": [
                      {
                        "marker": {
                          "colorbar": {
                            "outlinewidth": 0,
                            "ticks": ""
                          }
                        },
                        "type": "scatterpolar"
                      }
                    ],
                    "histogram2d": [
                      {
                        "colorbar": {
                          "outlinewidth": 0,
                          "ticks": ""
                        },
                        "type": "histogram2d",
                        "colorscale": [
                          [
                            0,
                            "#0d0887"
                          ],
                          [
                            0.1111111111111111,
                            "#46039f"
                          ],
                          [
                            0.2222222222222222,
                            "#7201a8"
                          ],
                          [
                            0.3333333333333333,
                            "#9c179e"
                          ],
                          [
                            0.4444444444444444,
                            "#bd3786"
                          ],
                          [
                            0.5555555555555556,
                            "#d8576b"
                          ],
                          [
                            0.6666666666666666,
                            "#ed7953"
                          ],
                          [
                            0.7777777777777778,
                            "#fb9f3a"
                          ],
                          [
                            0.8888888888888888,
                            "#fdca26"
                          ],
                          [
                            1,
                            "#f0f921"
                          ]
                        ]
                      }
                    ],
                    "scattergeo": [
                      {
                        "marker": {
                          "colorbar": {
                            "outlinewidth": 0,
                            "ticks": ""
                          }
                        },
                        "type": "scattergeo"
                      }
                    ],
                    "bar": [
                      {
                        "marker": {
                          "line": {
                            "color": "#E5ECF6",
                            "width": 0.5
                          }
                        },
                        "type": "bar",
                        "error_x": {
                          "color": "#2a3f5f"
                        },
                        "error_y": {
                          "color": "#2a3f5f"
                        }
                      }
                    ],
                    "choropleth": [
                      {
                        "colorbar": {
                          "outlinewidth": 0,
                          "ticks": ""
                        },
                        "type": "choropleth"
                      }
                    ],
                    "parcoords": [
                      {
                        "line": {
                          "colorbar": {
                            "outlinewidth": 0,
                            "ticks": ""
                          }
                        },
                        "type": "parcoords"
                      }
                    ],
                    "barpolar": [
                      {
                        "marker": {
                          "line": {
                            "color": "#E5ECF6",
                            "width": 0.5
                          }
                        },
                        "type": "barpolar"
                      }
                    ],
                    "histogram2dcontour": [
                      {
                        "colorbar": {
                          "outlinewidth": 0,
                          "ticks": ""
                        },
                        "type": "histogram2dcontour",
                        "colorscale": [
                          [
                            0,
                            "#0d0887"
                          ],
                          [
                            0.1111111111111111,
                            "#46039f"
                          ],
                          [
                            0.2222222222222222,
                            "#7201a8"
                          ],
                          [
                            0.3333333333333333,
                            "#9c179e"
                          ],
                          [
                            0.4444444444444444,
                            "#bd3786"
                          ],
                          [
                            0.5555555555555556,
                            "#d8576b"
                          ],
                          [
                            0.6666666666666666,
                            "#ed7953"
                          ],
                          [
                            0.7777777777777778,
                            "#fb9f3a"
                          ],
                          [
                            0.8888888888888888,
                            "#fdca26"
                          ],
                          [
                            1,
                            "#f0f921"
                          ]
                        ]
                      }
                    ],
                    "scatter": [
                      {
                        "marker": {
                          "colorbar": {
                            "outlinewidth": 0,
                            "ticks": ""
                          }
                        },
                        "type": "scatter"
                      }
                    ]
                  }
                },
                "margin": {
                  "r": 150,
                  "b": 75,
                  "l": 150,
                  "t": 150
                },
                "annotations": [
                  {
                    "xref": "x",
                    "yref": "y",
                    "text": "15294",
                    "y": "toxic",
                    "x": "toxic",
                    "font": {
                      "color": "#FFFFFF"
                    },
                    "showarrow": false
                  },
                  {
                    "xref": "x",
                    "yref": "y",
                    "text": "1595",
                    "y": "toxic",
                    "x": "severe_toxic",
                    "font": {
                      "color": "#000000"
                    },
                    "showarrow": false
                  },
                  {
                    "xref": "x",
                    "yref": "y",
                    "text": "7926",
                    "y": "toxic",
                    "x": "obscene",
                    "font": {
                      "color": "#FFFFFF"
                    },
                    "showarrow": false
                  },
                  {
                    "xref": "x",
                    "yref": "y",
                    "text": "449",
                    "y": "toxic",
                    "x": "threat",
                    "font": {
                      "color": "#000000"
                    },
                    "showarrow": false
                  },
                  {
                    "xref": "x",
                    "yref": "y",
                    "text": "7344",
                    "y": "toxic",
                    "x": "insult",
                    "font": {
                      "color": "#000000"
                    },
                    "showarrow": false
                  },
                  {
                    "xref": "x",
                    "yref": "y",
                    "text": "1302",
                    "y": "toxic",
                    "x": "identity_hate",
                    "font": {
                      "color": "#000000"
                    },
                    "showarrow": false
                  },
                  {
                    "xref": "x",
                    "yref": "y",
                    "text": "1595",
                    "y": "severe_toxic",
                    "x": "toxic",
                    "font": {
                      "color": "#000000"
                    },
                    "showarrow": false
                  },
                  {
                    "xref": "x",
                    "yref": "y",
                    "text": "1595",
                    "y": "severe_toxic",
                    "x": "severe_toxic",
                    "font": {
                      "color": "#000000"
                    },
                    "showarrow": false
                  },
                  {
                    "xref": "x",
                    "yref": "y",
                    "text": "1517",
                    "y": "severe_toxic",
                    "x": "obscene",
                    "font": {
                      "color": "#000000"
                    },
                    "showarrow": false
                  },
                  {
                    "xref": "x",
                    "yref": "y",
                    "text": "112",
                    "y": "severe_toxic",
                    "x": "threat",
                    "font": {
                      "color": "#000000"
                    },
                    "showarrow": false
                  },
                  {
                    "xref": "x",
                    "yref": "y",
                    "text": "1371",
                    "y": "severe_toxic",
                    "x": "insult",
                    "font": {
                      "color": "#000000"
                    },
                    "showarrow": false
                  },
                  {
                    "xref": "x",
                    "yref": "y",
                    "text": "313",
                    "y": "severe_toxic",
                    "x": "identity_hate",
                    "font": {
                      "color": "#000000"
                    },
                    "showarrow": false
                  },
                  {
                    "xref": "x",
                    "yref": "y",
                    "text": "7926",
                    "y": "obscene",
                    "x": "toxic",
                    "font": {
                      "color": "#FFFFFF"
                    },
                    "showarrow": false
                  },
                  {
                    "xref": "x",
                    "yref": "y",
                    "text": "1517",
                    "y": "obscene",
                    "x": "severe_toxic",
                    "font": {
                      "color": "#000000"
                    },
                    "showarrow": false
                  },
                  {
                    "xref": "x",
                    "yref": "y",
                    "text": "8449",
                    "y": "obscene",
                    "x": "obscene",
                    "font": {
                      "color": "#FFFFFF"
                    },
                    "showarrow": false
                  },
                  {
                    "xref": "x",
                    "yref": "y",
                    "text": "301",
                    "y": "obscene",
                    "x": "threat",
                    "font": {
                      "color": "#000000"
                    },
                    "showarrow": false
                  },
                  {
                    "xref": "x",
                    "yref": "y",
                    "text": "6155",
                    "y": "obscene",
                    "x": "insult",
                    "font": {
                      "color": "#000000"
                    },
                    "showarrow": false
                  },
                  {
                    "xref": "x",
                    "yref": "y",
                    "text": "1032",
                    "y": "obscene",
                    "x": "identity_hate",
                    "font": {
                      "color": "#000000"
                    },
                    "showarrow": false
                  },
                  {
                    "xref": "x",
                    "yref": "y",
                    "text": "449",
                    "y": "threat",
                    "x": "toxic",
                    "font": {
                      "color": "#000000"
                    },
                    "showarrow": false
                  },
                  {
                    "xref": "x",
                    "yref": "y",
                    "text": "112",
                    "y": "threat",
                    "x": "severe_toxic",
                    "font": {
                      "color": "#000000"
                    },
                    "showarrow": false
                  },
                  {
                    "xref": "x",
                    "yref": "y",
                    "text": "301",
                    "y": "threat",
                    "x": "obscene",
                    "font": {
                      "color": "#000000"
                    },
                    "showarrow": false
                  },
                  {
                    "xref": "x",
                    "yref": "y",
                    "text": "478",
                    "y": "threat",
                    "x": "threat",
                    "font": {
                      "color": "#000000"
                    },
                    "showarrow": false
                  },
                  {
                    "xref": "x",
                    "yref": "y",
                    "text": "307",
                    "y": "threat",
                    "x": "insult",
                    "font": {
                      "color": "#000000"
                    },
                    "showarrow": false
                  },
                  {
                    "xref": "x",
                    "yref": "y",
                    "text": "98",
                    "y": "threat",
                    "x": "identity_hate",
                    "font": {
                      "color": "#000000"
                    },
                    "showarrow": false
                  },
                  {
                    "xref": "x",
                    "yref": "y",
                    "text": "7344",
                    "y": "insult",
                    "x": "toxic",
                    "font": {
                      "color": "#000000"
                    },
                    "showarrow": false
                  },
                  {
                    "xref": "x",
                    "yref": "y",
                    "text": "1371",
                    "y": "insult",
                    "x": "severe_toxic",
                    "font": {
                      "color": "#000000"
                    },
                    "showarrow": false
                  },
                  {
                    "xref": "x",
                    "yref": "y",
                    "text": "6155",
                    "y": "insult",
                    "x": "obscene",
                    "font": {
                      "color": "#000000"
                    },
                    "showarrow": false
                  },
                  {
                    "xref": "x",
                    "yref": "y",
                    "text": "307",
                    "y": "insult",
                    "x": "threat",
                    "font": {
                      "color": "#000000"
                    },
                    "showarrow": false
                  },
                  {
                    "xref": "x",
                    "yref": "y",
                    "text": "7877",
                    "y": "insult",
                    "x": "insult",
                    "font": {
                      "color": "#FFFFFF"
                    },
                    "showarrow": false
                  },
                  {
                    "xref": "x",
                    "yref": "y",
                    "text": "1160",
                    "y": "insult",
                    "x": "identity_hate",
                    "font": {
                      "color": "#000000"
                    },
                    "showarrow": false
                  },
                  {
                    "xref": "x",
                    "yref": "y",
                    "text": "1302",
                    "y": "identity_hate",
                    "x": "toxic",
                    "font": {
                      "color": "#000000"
                    },
                    "showarrow": false
                  },
                  {
                    "xref": "x",
                    "yref": "y",
                    "text": "313",
                    "y": "identity_hate",
                    "x": "severe_toxic",
                    "font": {
                      "color": "#000000"
                    },
                    "showarrow": false
                  },
                  {
                    "xref": "x",
                    "yref": "y",
                    "text": "1032",
                    "y": "identity_hate",
                    "x": "obscene",
                    "font": {
                      "color": "#000000"
                    },
                    "showarrow": false
                  },
                  {
                    "xref": "x",
                    "yref": "y",
                    "text": "98",
                    "y": "identity_hate",
                    "x": "threat",
                    "font": {
                      "color": "#000000"
                    },
                    "showarrow": false
                  },
                  {
                    "xref": "x",
                    "yref": "y",
                    "text": "1160",
                    "y": "identity_hate",
                    "x": "insult",
                    "font": {
                      "color": "#000000"
                    },
                    "showarrow": false
                  },
                  {
                    "xref": "x",
                    "yref": "y",
                    "text": "1405",
                    "y": "identity_hate",
                    "x": "identity_hate",
                    "font": {
                      "color": "#000000"
                    },
                    "showarrow": false
                  }
                ]
              }
            }
          },
          "metadata": {
            "tags": []
          }
        },
        {
          "output_type": "display_data",
          "data": {
            "text/html": [
              "<div>\n",
              "        \n",
              "        \n",
              "            <div id=\"de52e1d6-49a7-4d3e-8a32-d53a53fc6766\" class=\"plotly-graph-div\" style=\"height:450px; width:900px;\"></div>\n",
              "            <script type=\"text/javascript\">\n",
              "                require([\"plotly\"], function(Plotly) {\n",
              "                    window.PLOTLYENV=window.PLOTLYENV || {};\n",
              "                    \n",
              "                if (document.getElementById(\"de52e1d6-49a7-4d3e-8a32-d53a53fc6766\")) {\n",
              "                    Plotly.newPlot(\n",
              "                        'de52e1d6-49a7-4d3e-8a32-d53a53fc6766',\n",
              "                        [{\"colorscale\": [[0.0, \"rgb(255,255,217)\"], [0.125, \"rgb(237,248,177)\"], [0.25, \"rgb(199,233,180)\"], [0.375, \"rgb(127,205,187)\"], [0.5, \"rgb(65,182,196)\"], [0.625, \"rgb(29,145,192)\"], [0.75, \"rgb(34,94,168)\"], [0.875, \"rgb(37,52,148)\"], [1.0, \"rgb(8,29,88)\"]], \"reversescale\": false, \"showscale\": false, \"type\": \"heatmap\", \"x\": [\"toxic\", \"severe_toxic\", \"obscene\", \"threat\", \"insult\", \"identity_hate\"], \"y\": [\"toxic\", \"severe_toxic\", \"obscene\", \"threat\", \"insult\", \"identity_hate\"], \"z\": [[15294, 1595, 7926, 449, 7344, 1302], [1595, 1595, 1517, 112, 1371, 313], [7926, 1517, 8449, 301, 6155, 1032], [449, 112, 301, 478, 307, 98], [7344, 1371, 6155, 307, 7877, 1160], [1302, 313, 1032, 98, 1160, 1405]], \"zmax\": 15294, \"zmin\": 1}],\n",
              "                        {\"annotations\": [{\"font\": {\"color\": \"#FFFFFF\"}, \"showarrow\": false, \"text\": \"15294\", \"x\": \"toxic\", \"xref\": \"x\", \"y\": \"toxic\", \"yref\": \"y\"}, {\"font\": {\"color\": \"#000000\"}, \"showarrow\": false, \"text\": \"1595\", \"x\": \"severe_toxic\", \"xref\": \"x\", \"y\": \"toxic\", \"yref\": \"y\"}, {\"font\": {\"color\": \"#FFFFFF\"}, \"showarrow\": false, \"text\": \"7926\", \"x\": \"obscene\", \"xref\": \"x\", \"y\": \"toxic\", \"yref\": \"y\"}, {\"font\": {\"color\": \"#000000\"}, \"showarrow\": false, \"text\": \"449\", \"x\": \"threat\", \"xref\": \"x\", \"y\": \"toxic\", \"yref\": \"y\"}, {\"font\": {\"color\": \"#000000\"}, \"showarrow\": false, \"text\": \"7344\", \"x\": \"insult\", \"xref\": \"x\", \"y\": \"toxic\", \"yref\": \"y\"}, {\"font\": {\"color\": \"#000000\"}, \"showarrow\": false, \"text\": \"1302\", \"x\": \"identity_hate\", \"xref\": \"x\", \"y\": \"toxic\", \"yref\": \"y\"}, {\"font\": {\"color\": \"#000000\"}, \"showarrow\": false, \"text\": \"1595\", \"x\": \"toxic\", \"xref\": \"x\", \"y\": \"severe_toxic\", \"yref\": \"y\"}, {\"font\": {\"color\": \"#000000\"}, \"showarrow\": false, \"text\": \"1595\", \"x\": \"severe_toxic\", \"xref\": \"x\", \"y\": \"severe_toxic\", \"yref\": \"y\"}, {\"font\": {\"color\": \"#000000\"}, \"showarrow\": false, \"text\": \"1517\", \"x\": \"obscene\", \"xref\": \"x\", \"y\": \"severe_toxic\", \"yref\": \"y\"}, {\"font\": {\"color\": \"#000000\"}, \"showarrow\": false, \"text\": \"112\", \"x\": \"threat\", \"xref\": \"x\", \"y\": \"severe_toxic\", \"yref\": \"y\"}, {\"font\": {\"color\": \"#000000\"}, \"showarrow\": false, \"text\": \"1371\", \"x\": \"insult\", \"xref\": \"x\", \"y\": \"severe_toxic\", \"yref\": \"y\"}, {\"font\": {\"color\": \"#000000\"}, \"showarrow\": false, \"text\": \"313\", \"x\": \"identity_hate\", \"xref\": \"x\", \"y\": \"severe_toxic\", \"yref\": \"y\"}, {\"font\": {\"color\": \"#FFFFFF\"}, \"showarrow\": false, \"text\": \"7926\", \"x\": \"toxic\", \"xref\": \"x\", \"y\": \"obscene\", \"yref\": \"y\"}, {\"font\": {\"color\": \"#000000\"}, \"showarrow\": false, \"text\": \"1517\", \"x\": \"severe_toxic\", \"xref\": \"x\", \"y\": \"obscene\", \"yref\": \"y\"}, {\"font\": {\"color\": \"#FFFFFF\"}, \"showarrow\": false, \"text\": \"8449\", \"x\": \"obscene\", \"xref\": \"x\", \"y\": \"obscene\", \"yref\": \"y\"}, {\"font\": {\"color\": \"#000000\"}, \"showarrow\": false, \"text\": \"301\", \"x\": \"threat\", \"xref\": \"x\", \"y\": \"obscene\", \"yref\": \"y\"}, {\"font\": {\"color\": \"#000000\"}, \"showarrow\": false, \"text\": \"6155\", \"x\": \"insult\", \"xref\": \"x\", \"y\": \"obscene\", \"yref\": \"y\"}, {\"font\": {\"color\": \"#000000\"}, \"showarrow\": false, \"text\": \"1032\", \"x\": \"identity_hate\", \"xref\": \"x\", \"y\": \"obscene\", \"yref\": \"y\"}, {\"font\": {\"color\": \"#000000\"}, \"showarrow\": false, \"text\": \"449\", \"x\": \"toxic\", \"xref\": \"x\", \"y\": \"threat\", \"yref\": \"y\"}, {\"font\": {\"color\": \"#000000\"}, \"showarrow\": false, \"text\": \"112\", \"x\": \"severe_toxic\", \"xref\": \"x\", \"y\": \"threat\", \"yref\": \"y\"}, {\"font\": {\"color\": \"#000000\"}, \"showarrow\": false, \"text\": \"301\", \"x\": \"obscene\", \"xref\": \"x\", \"y\": \"threat\", \"yref\": \"y\"}, {\"font\": {\"color\": \"#000000\"}, \"showarrow\": false, \"text\": \"478\", \"x\": \"threat\", \"xref\": \"x\", \"y\": \"threat\", \"yref\": \"y\"}, {\"font\": {\"color\": \"#000000\"}, \"showarrow\": false, \"text\": \"307\", \"x\": \"insult\", \"xref\": \"x\", \"y\": \"threat\", \"yref\": \"y\"}, {\"font\": {\"color\": \"#000000\"}, \"showarrow\": false, \"text\": \"98\", \"x\": \"identity_hate\", \"xref\": \"x\", \"y\": \"threat\", \"yref\": \"y\"}, {\"font\": {\"color\": \"#000000\"}, \"showarrow\": false, \"text\": \"7344\", \"x\": \"toxic\", \"xref\": \"x\", \"y\": \"insult\", \"yref\": \"y\"}, {\"font\": {\"color\": \"#000000\"}, \"showarrow\": false, \"text\": \"1371\", \"x\": \"severe_toxic\", \"xref\": \"x\", \"y\": \"insult\", \"yref\": \"y\"}, {\"font\": {\"color\": \"#000000\"}, \"showarrow\": false, \"text\": \"6155\", \"x\": \"obscene\", \"xref\": \"x\", \"y\": \"insult\", \"yref\": \"y\"}, {\"font\": {\"color\": \"#000000\"}, \"showarrow\": false, \"text\": \"307\", \"x\": \"threat\", \"xref\": \"x\", \"y\": \"insult\", \"yref\": \"y\"}, {\"font\": {\"color\": \"#FFFFFF\"}, \"showarrow\": false, \"text\": \"7877\", \"x\": \"insult\", \"xref\": \"x\", \"y\": \"insult\", \"yref\": \"y\"}, {\"font\": {\"color\": \"#000000\"}, \"showarrow\": false, \"text\": \"1160\", \"x\": \"identity_hate\", \"xref\": \"x\", \"y\": \"insult\", \"yref\": \"y\"}, {\"font\": {\"color\": \"#000000\"}, \"showarrow\": false, \"text\": \"1302\", \"x\": \"toxic\", \"xref\": \"x\", \"y\": \"identity_hate\", \"yref\": \"y\"}, {\"font\": {\"color\": \"#000000\"}, \"showarrow\": false, \"text\": \"313\", \"x\": \"severe_toxic\", \"xref\": \"x\", \"y\": \"identity_hate\", \"yref\": \"y\"}, {\"font\": {\"color\": \"#000000\"}, \"showarrow\": false, \"text\": \"1032\", \"x\": \"obscene\", \"xref\": \"x\", \"y\": \"identity_hate\", \"yref\": \"y\"}, {\"font\": {\"color\": \"#000000\"}, \"showarrow\": false, \"text\": \"98\", \"x\": \"threat\", \"xref\": \"x\", \"y\": \"identity_hate\", \"yref\": \"y\"}, {\"font\": {\"color\": \"#000000\"}, \"showarrow\": false, \"text\": \"1160\", \"x\": \"insult\", \"xref\": \"x\", \"y\": \"identity_hate\", \"yref\": \"y\"}, {\"font\": {\"color\": \"#000000\"}, \"showarrow\": false, \"text\": \"1405\", \"x\": \"identity_hate\", \"xref\": \"x\", \"y\": \"identity_hate\", \"yref\": \"y\"}], \"autosize\": false, \"height\": 450, \"margin\": {\"b\": 75, \"l\": 150, \"r\": 150, \"t\": 150}, \"template\": {\"data\": {\"bar\": [{\"error_x\": {\"color\": \"#2a3f5f\"}, \"error_y\": {\"color\": \"#2a3f5f\"}, \"marker\": {\"line\": {\"color\": \"#E5ECF6\", \"width\": 0.5}}, \"type\": \"bar\"}], \"barpolar\": [{\"marker\": {\"line\": {\"color\": \"#E5ECF6\", \"width\": 0.5}}, \"type\": \"barpolar\"}], \"carpet\": [{\"aaxis\": {\"endlinecolor\": \"#2a3f5f\", \"gridcolor\": \"white\", \"linecolor\": \"white\", \"minorgridcolor\": \"white\", \"startlinecolor\": \"#2a3f5f\"}, \"baxis\": {\"endlinecolor\": \"#2a3f5f\", \"gridcolor\": \"white\", \"linecolor\": \"white\", \"minorgridcolor\": \"white\", \"startlinecolor\": \"#2a3f5f\"}, \"type\": \"carpet\"}], \"choropleth\": [{\"colorbar\": {\"outlinewidth\": 0, \"ticks\": \"\"}, \"type\": \"choropleth\"}], \"contour\": [{\"colorbar\": {\"outlinewidth\": 0, \"ticks\": \"\"}, \"colorscale\": [[0.0, \"#0d0887\"], [0.1111111111111111, \"#46039f\"], [0.2222222222222222, \"#7201a8\"], [0.3333333333333333, \"#9c179e\"], [0.4444444444444444, \"#bd3786\"], [0.5555555555555556, \"#d8576b\"], [0.6666666666666666, \"#ed7953\"], [0.7777777777777778, \"#fb9f3a\"], [0.8888888888888888, \"#fdca26\"], [1.0, \"#f0f921\"]], \"type\": \"contour\"}], \"contourcarpet\": [{\"colorbar\": {\"outlinewidth\": 0, \"ticks\": \"\"}, \"type\": \"contourcarpet\"}], \"heatmap\": [{\"colorbar\": {\"outlinewidth\": 0, \"ticks\": \"\"}, \"colorscale\": [[0.0, \"#0d0887\"], [0.1111111111111111, \"#46039f\"], [0.2222222222222222, \"#7201a8\"], [0.3333333333333333, \"#9c179e\"], [0.4444444444444444, \"#bd3786\"], [0.5555555555555556, \"#d8576b\"], [0.6666666666666666, \"#ed7953\"], [0.7777777777777778, \"#fb9f3a\"], [0.8888888888888888, \"#fdca26\"], [1.0, \"#f0f921\"]], \"type\": \"heatmap\"}], \"heatmapgl\": [{\"colorbar\": {\"outlinewidth\": 0, \"ticks\": \"\"}, \"colorscale\": [[0.0, \"#0d0887\"], [0.1111111111111111, \"#46039f\"], [0.2222222222222222, \"#7201a8\"], [0.3333333333333333, \"#9c179e\"], [0.4444444444444444, \"#bd3786\"], [0.5555555555555556, \"#d8576b\"], [0.6666666666666666, \"#ed7953\"], [0.7777777777777778, \"#fb9f3a\"], [0.8888888888888888, \"#fdca26\"], [1.0, \"#f0f921\"]], \"type\": \"heatmapgl\"}], \"histogram\": [{\"marker\": {\"colorbar\": {\"outlinewidth\": 0, \"ticks\": \"\"}}, \"type\": \"histogram\"}], \"histogram2d\": [{\"colorbar\": {\"outlinewidth\": 0, \"ticks\": \"\"}, \"colorscale\": [[0.0, \"#0d0887\"], [0.1111111111111111, \"#46039f\"], [0.2222222222222222, \"#7201a8\"], [0.3333333333333333, \"#9c179e\"], [0.4444444444444444, \"#bd3786\"], [0.5555555555555556, \"#d8576b\"], [0.6666666666666666, \"#ed7953\"], [0.7777777777777778, \"#fb9f3a\"], [0.8888888888888888, \"#fdca26\"], [1.0, \"#f0f921\"]], \"type\": \"histogram2d\"}], \"histogram2dcontour\": [{\"colorbar\": {\"outlinewidth\": 0, \"ticks\": \"\"}, \"colorscale\": [[0.0, \"#0d0887\"], [0.1111111111111111, \"#46039f\"], [0.2222222222222222, \"#7201a8\"], [0.3333333333333333, \"#9c179e\"], [0.4444444444444444, \"#bd3786\"], [0.5555555555555556, \"#d8576b\"], [0.6666666666666666, \"#ed7953\"], [0.7777777777777778, \"#fb9f3a\"], [0.8888888888888888, \"#fdca26\"], [1.0, \"#f0f921\"]], \"type\": \"histogram2dcontour\"}], \"mesh3d\": [{\"colorbar\": {\"outlinewidth\": 0, \"ticks\": \"\"}, \"type\": \"mesh3d\"}], \"parcoords\": [{\"line\": {\"colorbar\": {\"outlinewidth\": 0, \"ticks\": \"\"}}, \"type\": \"parcoords\"}], \"scatter\": [{\"marker\": {\"colorbar\": {\"outlinewidth\": 0, \"ticks\": \"\"}}, \"type\": \"scatter\"}], \"scatter3d\": [{\"line\": {\"colorbar\": {\"outlinewidth\": 0, \"ticks\": \"\"}}, \"marker\": {\"colorbar\": {\"outlinewidth\": 0, \"ticks\": \"\"}}, \"type\": \"scatter3d\"}], \"scattercarpet\": [{\"marker\": {\"colorbar\": {\"outlinewidth\": 0, \"ticks\": \"\"}}, \"type\": \"scattercarpet\"}], \"scattergeo\": [{\"marker\": {\"colorbar\": {\"outlinewidth\": 0, \"ticks\": \"\"}}, \"type\": \"scattergeo\"}], \"scattergl\": [{\"marker\": {\"colorbar\": {\"outlinewidth\": 0, \"ticks\": \"\"}}, \"type\": \"scattergl\"}], \"scattermapbox\": [{\"marker\": {\"colorbar\": {\"outlinewidth\": 0, \"ticks\": \"\"}}, \"type\": \"scattermapbox\"}], \"scatterpolar\": [{\"marker\": {\"colorbar\": {\"outlinewidth\": 0, \"ticks\": \"\"}}, \"type\": \"scatterpolar\"}], \"scatterpolargl\": [{\"marker\": {\"colorbar\": {\"outlinewidth\": 0, \"ticks\": \"\"}}, \"type\": \"scatterpolargl\"}], \"scatterternary\": [{\"marker\": {\"colorbar\": {\"outlinewidth\": 0, \"ticks\": \"\"}}, \"type\": \"scatterternary\"}], \"surface\": [{\"colorbar\": {\"outlinewidth\": 0, \"ticks\": \"\"}, \"colorscale\": [[0.0, \"#0d0887\"], [0.1111111111111111, \"#46039f\"], [0.2222222222222222, \"#7201a8\"], [0.3333333333333333, \"#9c179e\"], [0.4444444444444444, \"#bd3786\"], [0.5555555555555556, \"#d8576b\"], [0.6666666666666666, \"#ed7953\"], [0.7777777777777778, \"#fb9f3a\"], [0.8888888888888888, \"#fdca26\"], [1.0, \"#f0f921\"]], \"type\": \"surface\"}], \"table\": [{\"cells\": {\"fill\": {\"color\": \"#EBF0F8\"}, \"line\": {\"color\": \"white\"}}, \"header\": {\"fill\": {\"color\": \"#C8D4E3\"}, \"line\": {\"color\": \"white\"}}, \"type\": \"table\"}]}, \"layout\": {\"annotationdefaults\": {\"arrowcolor\": \"#2a3f5f\", \"arrowhead\": 0, \"arrowwidth\": 1}, \"colorscale\": {\"diverging\": [[0, \"#8e0152\"], [0.1, \"#c51b7d\"], [0.2, \"#de77ae\"], [0.3, \"#f1b6da\"], [0.4, \"#fde0ef\"], [0.5, \"#f7f7f7\"], [0.6, \"#e6f5d0\"], [0.7, \"#b8e186\"], [0.8, \"#7fbc41\"], [0.9, \"#4d9221\"], [1, \"#276419\"]], \"sequential\": [[0.0, \"#0d0887\"], [0.1111111111111111, \"#46039f\"], [0.2222222222222222, \"#7201a8\"], [0.3333333333333333, \"#9c179e\"], [0.4444444444444444, \"#bd3786\"], [0.5555555555555556, \"#d8576b\"], [0.6666666666666666, \"#ed7953\"], [0.7777777777777778, \"#fb9f3a\"], [0.8888888888888888, \"#fdca26\"], [1.0, \"#f0f921\"]], \"sequentialminus\": [[0.0, \"#0d0887\"], [0.1111111111111111, \"#46039f\"], [0.2222222222222222, \"#7201a8\"], [0.3333333333333333, \"#9c179e\"], [0.4444444444444444, \"#bd3786\"], [0.5555555555555556, \"#d8576b\"], [0.6666666666666666, \"#ed7953\"], [0.7777777777777778, \"#fb9f3a\"], [0.8888888888888888, \"#fdca26\"], [1.0, \"#f0f921\"]]}, \"colorway\": [\"#636efa\", \"#EF553B\", \"#00cc96\", \"#ab63fa\", \"#FFA15A\", \"#19d3f3\", \"#FF6692\", \"#B6E880\", \"#FF97FF\", \"#FECB52\"], \"font\": {\"color\": \"#2a3f5f\"}, \"geo\": {\"bgcolor\": \"white\", \"lakecolor\": \"white\", \"landcolor\": \"#E5ECF6\", \"showlakes\": true, \"showland\": true, \"subunitcolor\": \"white\"}, \"hoverlabel\": {\"align\": \"left\"}, \"hovermode\": \"closest\", \"mapbox\": {\"style\": \"light\"}, \"paper_bgcolor\": \"white\", \"plot_bgcolor\": \"#E5ECF6\", \"polar\": {\"angularaxis\": {\"gridcolor\": \"white\", \"linecolor\": \"white\", \"ticks\": \"\"}, \"bgcolor\": \"#E5ECF6\", \"radialaxis\": {\"gridcolor\": \"white\", \"linecolor\": \"white\", \"ticks\": \"\"}}, \"scene\": {\"xaxis\": {\"backgroundcolor\": \"#E5ECF6\", \"gridcolor\": \"white\", \"gridwidth\": 2, \"linecolor\": \"white\", \"showbackground\": true, \"ticks\": \"\", \"zerolinecolor\": \"white\"}, \"yaxis\": {\"backgroundcolor\": \"#E5ECF6\", \"gridcolor\": \"white\", \"gridwidth\": 2, \"linecolor\": \"white\", \"showbackground\": true, \"ticks\": \"\", \"zerolinecolor\": \"white\"}, \"zaxis\": {\"backgroundcolor\": \"#E5ECF6\", \"gridcolor\": \"white\", \"gridwidth\": 2, \"linecolor\": \"white\", \"showbackground\": true, \"ticks\": \"\", \"zerolinecolor\": \"white\"}}, \"shapedefaults\": {\"line\": {\"color\": \"#2a3f5f\"}}, \"ternary\": {\"aaxis\": {\"gridcolor\": \"white\", \"linecolor\": \"white\", \"ticks\": \"\"}, \"baxis\": {\"gridcolor\": \"white\", \"linecolor\": \"white\", \"ticks\": \"\"}, \"bgcolor\": \"#E5ECF6\", \"caxis\": {\"gridcolor\": \"white\", \"linecolor\": \"white\", \"ticks\": \"\"}}, \"title\": {\"x\": 0.05}, \"xaxis\": {\"automargin\": true, \"gridcolor\": \"white\", \"linecolor\": \"white\", \"ticks\": \"\", \"zerolinecolor\": \"white\", \"zerolinewidth\": 2}, \"yaxis\": {\"automargin\": true, \"gridcolor\": \"white\", \"linecolor\": \"white\", \"ticks\": \"\", \"zerolinecolor\": \"white\", \"zerolinewidth\": 2}}}, \"title\": {\"text\": \"<b>Co-occurrence of comment types</b>\"}, \"width\": 900, \"xaxis\": {\"dtick\": 1, \"gridcolor\": \"rgb(0, 0, 0)\", \"side\": \"bottom\", \"tickfont\": {\"color\": \"grey\"}, \"ticks\": \"\", \"title\": {\"text\": \"Major comment category\"}}, \"yaxis\": {\"dtick\": 1, \"tickfont\": {\"color\": \"grey\"}, \"ticks\": \"\", \"ticksuffix\": \"  \", \"title\": {\"text\": \"Co-occurring comment category\"}}},\n",
              "                        {\"responsive\": true}\n",
              "                    ).then(function(){\n",
              "                            \n",
              "var gd = document.getElementById('de52e1d6-49a7-4d3e-8a32-d53a53fc6766');\n",
              "var x = new MutationObserver(function (mutations, observer) {{\n",
              "        var display = window.getComputedStyle(gd).display;\n",
              "        if (!display || display === 'none') {{\n",
              "            console.log([gd, 'removed!']);\n",
              "            Plotly.purge(gd);\n",
              "            observer.disconnect();\n",
              "        }}\n",
              "}});\n",
              "\n",
              "// Listen for the removal of the full notebook cells\n",
              "var notebookContainer = gd.closest('#notebook-container');\n",
              "if (notebookContainer) {{\n",
              "    x.observe(notebookContainer, {childList: true});\n",
              "}}\n",
              "\n",
              "// Listen for the clearing of the current output cell\n",
              "var outputEl = gd.closest('.output');\n",
              "if (outputEl) {{\n",
              "    x.observe(outputEl, {childList: true});\n",
              "}}\n",
              "\n",
              "                        })\n",
              "                };\n",
              "                });\n",
              "            </script>\n",
              "        </div>"
            ],
            "application/vnd.plotly.v1+json": {
              "data": [
                {
                  "zmax": 15294,
                  "colorscale": [
                    [
                      0,
                      "rgb(255,255,217)"
                    ],
                    [
                      0.125,
                      "rgb(237,248,177)"
                    ],
                    [
                      0.25,
                      "rgb(199,233,180)"
                    ],
                    [
                      0.375,
                      "rgb(127,205,187)"
                    ],
                    [
                      0.5,
                      "rgb(65,182,196)"
                    ],
                    [
                      0.625,
                      "rgb(29,145,192)"
                    ],
                    [
                      0.75,
                      "rgb(34,94,168)"
                    ],
                    [
                      0.875,
                      "rgb(37,52,148)"
                    ],
                    [
                      1,
                      "rgb(8,29,88)"
                    ]
                  ],
                  "zmin": 1,
                  "reversescale": false,
                  "showscale": false,
                  "y": [
                    "toxic",
                    "severe_toxic",
                    "obscene",
                    "threat",
                    "insult",
                    "identity_hate"
                  ],
                  "x": [
                    "toxic",
                    "severe_toxic",
                    "obscene",
                    "threat",
                    "insult",
                    "identity_hate"
                  ],
                  "z": [
                    [
                      15294,
                      1595,
                      7926,
                      449,
                      7344,
                      1302
                    ],
                    [
                      1595,
                      1595,
                      1517,
                      112,
                      1371,
                      313
                    ],
                    [
                      7926,
                      1517,
                      8449,
                      301,
                      6155,
                      1032
                    ],
                    [
                      449,
                      112,
                      301,
                      478,
                      307,
                      98
                    ],
                    [
                      7344,
                      1371,
                      6155,
                      307,
                      7877,
                      1160
                    ],
                    [
                      1302,
                      313,
                      1032,
                      98,
                      1160,
                      1405
                    ]
                  ],
                  "type": "heatmap"
                }
              ],
              "config": {
                "plotlyServerURL": "https://plot.ly"
              },
              "layout": {
                "autosize": false,
                "xaxis": {
                  "tickfont": {
                    "color": "grey"
                  },
                  "title": {
                    "text": "Major comment category"
                  },
                  "ticks": "",
                  "dtick": 1,
                  "gridcolor": "rgb(0, 0, 0)",
                  "side": "bottom"
                },
                "title": {
                  "text": "<b>Co-occurrence of comment types</b>"
                },
                "yaxis": {
                  "tickfont": {
                    "color": "grey"
                  },
                  "ticks": "",
                  "ticksuffix": "  ",
                  "dtick": 1,
                  "title": {
                    "text": "Co-occurring comment category"
                  }
                },
                "height": 450,
                "width": 900,
                "template": {
                  "layout": {
                    "shapedefaults": {
                      "line": {
                        "color": "#2a3f5f"
                      }
                    },
                    "polar": {
                      "radialaxis": {
                        "ticks": "",
                        "gridcolor": "white",
                        "linecolor": "white"
                      },
                      "bgcolor": "#E5ECF6",
                      "angularaxis": {
                        "ticks": "",
                        "gridcolor": "white",
                        "linecolor": "white"
                      }
                    },
                    "colorway": [
                      "#636efa",
                      "#EF553B",
                      "#00cc96",
                      "#ab63fa",
                      "#FFA15A",
                      "#19d3f3",
                      "#FF6692",
                      "#B6E880",
                      "#FF97FF",
                      "#FECB52"
                    ],
                    "xaxis": {
                      "automargin": true,
                      "zerolinewidth": 2,
                      "ticks": "",
                      "zerolinecolor": "white",
                      "gridcolor": "white",
                      "linecolor": "white"
                    },
                    "colorscale": {
                      "diverging": [
                        [
                          0,
                          "#8e0152"
                        ],
                        [
                          0.1,
                          "#c51b7d"
                        ],
                        [
                          0.2,
                          "#de77ae"
                        ],
                        [
                          0.3,
                          "#f1b6da"
                        ],
                        [
                          0.4,
                          "#fde0ef"
                        ],
                        [
                          0.5,
                          "#f7f7f7"
                        ],
                        [
                          0.6,
                          "#e6f5d0"
                        ],
                        [
                          0.7,
                          "#b8e186"
                        ],
                        [
                          0.8,
                          "#7fbc41"
                        ],
                        [
                          0.9,
                          "#4d9221"
                        ],
                        [
                          1,
                          "#276419"
                        ]
                      ],
                      "sequential": [
                        [
                          0,
                          "#0d0887"
                        ],
                        [
                          0.1111111111111111,
                          "#46039f"
                        ],
                        [
                          0.2222222222222222,
                          "#7201a8"
                        ],
                        [
                          0.3333333333333333,
                          "#9c179e"
                        ],
                        [
                          0.4444444444444444,
                          "#bd3786"
                        ],
                        [
                          0.5555555555555556,
                          "#d8576b"
                        ],
                        [
                          0.6666666666666666,
                          "#ed7953"
                        ],
                        [
                          0.7777777777777778,
                          "#fb9f3a"
                        ],
                        [
                          0.8888888888888888,
                          "#fdca26"
                        ],
                        [
                          1,
                          "#f0f921"
                        ]
                      ],
                      "sequentialminus": [
                        [
                          0,
                          "#0d0887"
                        ],
                        [
                          0.1111111111111111,
                          "#46039f"
                        ],
                        [
                          0.2222222222222222,
                          "#7201a8"
                        ],
                        [
                          0.3333333333333333,
                          "#9c179e"
                        ],
                        [
                          0.4444444444444444,
                          "#bd3786"
                        ],
                        [
                          0.5555555555555556,
                          "#d8576b"
                        ],
                        [
                          0.6666666666666666,
                          "#ed7953"
                        ],
                        [
                          0.7777777777777778,
                          "#fb9f3a"
                        ],
                        [
                          0.8888888888888888,
                          "#fdca26"
                        ],
                        [
                          1,
                          "#f0f921"
                        ]
                      ]
                    },
                    "paper_bgcolor": "white",
                    "plot_bgcolor": "#E5ECF6",
                    "title": {
                      "x": 0.05
                    },
                    "scene": {
                      "zaxis": {
                        "backgroundcolor": "#E5ECF6",
                        "ticks": "",
                        "gridwidth": 2,
                        "showbackground": true,
                        "zerolinecolor": "white",
                        "gridcolor": "white",
                        "linecolor": "white"
                      },
                      "xaxis": {
                        "backgroundcolor": "#E5ECF6",
                        "ticks": "",
                        "gridwidth": 2,
                        "showbackground": true,
                        "zerolinecolor": "white",
                        "gridcolor": "white",
                        "linecolor": "white"
                      },
                      "yaxis": {
                        "backgroundcolor": "#E5ECF6",
                        "ticks": "",
                        "gridwidth": 2,
                        "showbackground": true,
                        "zerolinecolor": "white",
                        "gridcolor": "white",
                        "linecolor": "white"
                      }
                    },
                    "yaxis": {
                      "automargin": true,
                      "zerolinewidth": 2,
                      "ticks": "",
                      "zerolinecolor": "white",
                      "gridcolor": "white",
                      "linecolor": "white"
                    },
                    "hoverlabel": {
                      "align": "left"
                    },
                    "ternary": {
                      "bgcolor": "#E5ECF6",
                      "baxis": {
                        "ticks": "",
                        "gridcolor": "white",
                        "linecolor": "white"
                      },
                      "caxis": {
                        "ticks": "",
                        "gridcolor": "white",
                        "linecolor": "white"
                      },
                      "aaxis": {
                        "ticks": "",
                        "gridcolor": "white",
                        "linecolor": "white"
                      }
                    },
                    "mapbox": {
                      "style": "light"
                    },
                    "hovermode": "closest",
                    "font": {
                      "color": "#2a3f5f"
                    },
                    "geo": {
                      "showland": true,
                      "landcolor": "#E5ECF6",
                      "showlakes": true,
                      "bgcolor": "white",
                      "subunitcolor": "white",
                      "lakecolor": "white"
                    },
                    "annotationdefaults": {
                      "arrowwidth": 1,
                      "arrowhead": 0,
                      "arrowcolor": "#2a3f5f"
                    }
                  },
                  "data": {
                    "mesh3d": [
                      {
                        "colorbar": {
                          "outlinewidth": 0,
                          "ticks": ""
                        },
                        "type": "mesh3d"
                      }
                    ],
                    "scattercarpet": [
                      {
                        "marker": {
                          "colorbar": {
                            "outlinewidth": 0,
                            "ticks": ""
                          }
                        },
                        "type": "scattercarpet"
                      }
                    ],
                    "scatterternary": [
                      {
                        "marker": {
                          "colorbar": {
                            "outlinewidth": 0,
                            "ticks": ""
                          }
                        },
                        "type": "scatterternary"
                      }
                    ],
                    "surface": [
                      {
                        "colorbar": {
                          "outlinewidth": 0,
                          "ticks": ""
                        },
                        "type": "surface",
                        "colorscale": [
                          [
                            0,
                            "#0d0887"
                          ],
                          [
                            0.1111111111111111,
                            "#46039f"
                          ],
                          [
                            0.2222222222222222,
                            "#7201a8"
                          ],
                          [
                            0.3333333333333333,
                            "#9c179e"
                          ],
                          [
                            0.4444444444444444,
                            "#bd3786"
                          ],
                          [
                            0.5555555555555556,
                            "#d8576b"
                          ],
                          [
                            0.6666666666666666,
                            "#ed7953"
                          ],
                          [
                            0.7777777777777778,
                            "#fb9f3a"
                          ],
                          [
                            0.8888888888888888,
                            "#fdca26"
                          ],
                          [
                            1,
                            "#f0f921"
                          ]
                        ]
                      }
                    ],
                    "table": [
                      {
                        "header": {
                          "line": {
                            "color": "white"
                          },
                          "fill": {
                            "color": "#C8D4E3"
                          }
                        },
                        "cells": {
                          "line": {
                            "color": "white"
                          },
                          "fill": {
                            "color": "#EBF0F8"
                          }
                        },
                        "type": "table"
                      }
                    ],
                    "scatterpolargl": [
                      {
                        "marker": {
                          "colorbar": {
                            "outlinewidth": 0,
                            "ticks": ""
                          }
                        },
                        "type": "scatterpolargl"
                      }
                    ],
                    "contour": [
                      {
                        "colorbar": {
                          "outlinewidth": 0,
                          "ticks": ""
                        },
                        "type": "contour",
                        "colorscale": [
                          [
                            0,
                            "#0d0887"
                          ],
                          [
                            0.1111111111111111,
                            "#46039f"
                          ],
                          [
                            0.2222222222222222,
                            "#7201a8"
                          ],
                          [
                            0.3333333333333333,
                            "#9c179e"
                          ],
                          [
                            0.4444444444444444,
                            "#bd3786"
                          ],
                          [
                            0.5555555555555556,
                            "#d8576b"
                          ],
                          [
                            0.6666666666666666,
                            "#ed7953"
                          ],
                          [
                            0.7777777777777778,
                            "#fb9f3a"
                          ],
                          [
                            0.8888888888888888,
                            "#fdca26"
                          ],
                          [
                            1,
                            "#f0f921"
                          ]
                        ]
                      }
                    ],
                    "carpet": [
                      {
                        "type": "carpet",
                        "baxis": {
                          "minorgridcolor": "white",
                          "gridcolor": "white",
                          "linecolor": "white",
                          "endlinecolor": "#2a3f5f",
                          "startlinecolor": "#2a3f5f"
                        },
                        "aaxis": {
                          "minorgridcolor": "white",
                          "gridcolor": "white",
                          "linecolor": "white",
                          "endlinecolor": "#2a3f5f",
                          "startlinecolor": "#2a3f5f"
                        }
                      }
                    ],
                    "contourcarpet": [
                      {
                        "colorbar": {
                          "outlinewidth": 0,
                          "ticks": ""
                        },
                        "type": "contourcarpet"
                      }
                    ],
                    "heatmap": [
                      {
                        "colorbar": {
                          "outlinewidth": 0,
                          "ticks": ""
                        },
                        "type": "heatmap",
                        "colorscale": [
                          [
                            0,
                            "#0d0887"
                          ],
                          [
                            0.1111111111111111,
                            "#46039f"
                          ],
                          [
                            0.2222222222222222,
                            "#7201a8"
                          ],
                          [
                            0.3333333333333333,
                            "#9c179e"
                          ],
                          [
                            0.4444444444444444,
                            "#bd3786"
                          ],
                          [
                            0.5555555555555556,
                            "#d8576b"
                          ],
                          [
                            0.6666666666666666,
                            "#ed7953"
                          ],
                          [
                            0.7777777777777778,
                            "#fb9f3a"
                          ],
                          [
                            0.8888888888888888,
                            "#fdca26"
                          ],
                          [
                            1,
                            "#f0f921"
                          ]
                        ]
                      }
                    ],
                    "scattermapbox": [
                      {
                        "marker": {
                          "colorbar": {
                            "outlinewidth": 0,
                            "ticks": ""
                          }
                        },
                        "type": "scattermapbox"
                      }
                    ],
                    "scatter3d": [
                      {
                        "marker": {
                          "colorbar": {
                            "outlinewidth": 0,
                            "ticks": ""
                          }
                        },
                        "line": {
                          "colorbar": {
                            "outlinewidth": 0,
                            "ticks": ""
                          }
                        },
                        "type": "scatter3d"
                      }
                    ],
                    "scattergl": [
                      {
                        "marker": {
                          "colorbar": {
                            "outlinewidth": 0,
                            "ticks": ""
                          }
                        },
                        "type": "scattergl"
                      }
                    ],
                    "histogram": [
                      {
                        "marker": {
                          "colorbar": {
                            "outlinewidth": 0,
                            "ticks": ""
                          }
                        },
                        "type": "histogram"
                      }
                    ],
                    "heatmapgl": [
                      {
                        "colorbar": {
                          "outlinewidth": 0,
                          "ticks": ""
                        },
                        "type": "heatmapgl",
                        "colorscale": [
                          [
                            0,
                            "#0d0887"
                          ],
                          [
                            0.1111111111111111,
                            "#46039f"
                          ],
                          [
                            0.2222222222222222,
                            "#7201a8"
                          ],
                          [
                            0.3333333333333333,
                            "#9c179e"
                          ],
                          [
                            0.4444444444444444,
                            "#bd3786"
                          ],
                          [
                            0.5555555555555556,
                            "#d8576b"
                          ],
                          [
                            0.6666666666666666,
                            "#ed7953"
                          ],
                          [
                            0.7777777777777778,
                            "#fb9f3a"
                          ],
                          [
                            0.8888888888888888,
                            "#fdca26"
                          ],
                          [
                            1,
                            "#f0f921"
                          ]
                        ]
                      }
                    ],
                    "scatterpolar": [
                      {
                        "marker": {
                          "colorbar": {
                            "outlinewidth": 0,
                            "ticks": ""
                          }
                        },
                        "type": "scatterpolar"
                      }
                    ],
                    "histogram2d": [
                      {
                        "colorbar": {
                          "outlinewidth": 0,
                          "ticks": ""
                        },
                        "type": "histogram2d",
                        "colorscale": [
                          [
                            0,
                            "#0d0887"
                          ],
                          [
                            0.1111111111111111,
                            "#46039f"
                          ],
                          [
                            0.2222222222222222,
                            "#7201a8"
                          ],
                          [
                            0.3333333333333333,
                            "#9c179e"
                          ],
                          [
                            0.4444444444444444,
                            "#bd3786"
                          ],
                          [
                            0.5555555555555556,
                            "#d8576b"
                          ],
                          [
                            0.6666666666666666,
                            "#ed7953"
                          ],
                          [
                            0.7777777777777778,
                            "#fb9f3a"
                          ],
                          [
                            0.8888888888888888,
                            "#fdca26"
                          ],
                          [
                            1,
                            "#f0f921"
                          ]
                        ]
                      }
                    ],
                    "scattergeo": [
                      {
                        "marker": {
                          "colorbar": {
                            "outlinewidth": 0,
                            "ticks": ""
                          }
                        },
                        "type": "scattergeo"
                      }
                    ],
                    "bar": [
                      {
                        "marker": {
                          "line": {
                            "color": "#E5ECF6",
                            "width": 0.5
                          }
                        },
                        "type": "bar",
                        "error_x": {
                          "color": "#2a3f5f"
                        },
                        "error_y": {
                          "color": "#2a3f5f"
                        }
                      }
                    ],
                    "choropleth": [
                      {
                        "colorbar": {
                          "outlinewidth": 0,
                          "ticks": ""
                        },
                        "type": "choropleth"
                      }
                    ],
                    "parcoords": [
                      {
                        "line": {
                          "colorbar": {
                            "outlinewidth": 0,
                            "ticks": ""
                          }
                        },
                        "type": "parcoords"
                      }
                    ],
                    "barpolar": [
                      {
                        "marker": {
                          "line": {
                            "color": "#E5ECF6",
                            "width": 0.5
                          }
                        },
                        "type": "barpolar"
                      }
                    ],
                    "histogram2dcontour": [
                      {
                        "colorbar": {
                          "outlinewidth": 0,
                          "ticks": ""
                        },
                        "type": "histogram2dcontour",
                        "colorscale": [
                          [
                            0,
                            "#0d0887"
                          ],
                          [
                            0.1111111111111111,
                            "#46039f"
                          ],
                          [
                            0.2222222222222222,
                            "#7201a8"
                          ],
                          [
                            0.3333333333333333,
                            "#9c179e"
                          ],
                          [
                            0.4444444444444444,
                            "#bd3786"
                          ],
                          [
                            0.5555555555555556,
                            "#d8576b"
                          ],
                          [
                            0.6666666666666666,
                            "#ed7953"
                          ],
                          [
                            0.7777777777777778,
                            "#fb9f3a"
                          ],
                          [
                            0.8888888888888888,
                            "#fdca26"
                          ],
                          [
                            1,
                            "#f0f921"
                          ]
                        ]
                      }
                    ],
                    "scatter": [
                      {
                        "marker": {
                          "colorbar": {
                            "outlinewidth": 0,
                            "ticks": ""
                          }
                        },
                        "type": "scatter"
                      }
                    ]
                  }
                },
                "margin": {
                  "r": 150,
                  "b": 75,
                  "l": 150,
                  "t": 150
                },
                "annotations": [
                  {
                    "xref": "x",
                    "yref": "y",
                    "text": "15294",
                    "y": "toxic",
                    "x": "toxic",
                    "font": {
                      "color": "#FFFFFF"
                    },
                    "showarrow": false
                  },
                  {
                    "xref": "x",
                    "yref": "y",
                    "text": "1595",
                    "y": "toxic",
                    "x": "severe_toxic",
                    "font": {
                      "color": "#000000"
                    },
                    "showarrow": false
                  },
                  {
                    "xref": "x",
                    "yref": "y",
                    "text": "7926",
                    "y": "toxic",
                    "x": "obscene",
                    "font": {
                      "color": "#FFFFFF"
                    },
                    "showarrow": false
                  },
                  {
                    "xref": "x",
                    "yref": "y",
                    "text": "449",
                    "y": "toxic",
                    "x": "threat",
                    "font": {
                      "color": "#000000"
                    },
                    "showarrow": false
                  },
                  {
                    "xref": "x",
                    "yref": "y",
                    "text": "7344",
                    "y": "toxic",
                    "x": "insult",
                    "font": {
                      "color": "#000000"
                    },
                    "showarrow": false
                  },
                  {
                    "xref": "x",
                    "yref": "y",
                    "text": "1302",
                    "y": "toxic",
                    "x": "identity_hate",
                    "font": {
                      "color": "#000000"
                    },
                    "showarrow": false
                  },
                  {
                    "xref": "x",
                    "yref": "y",
                    "text": "1595",
                    "y": "severe_toxic",
                    "x": "toxic",
                    "font": {
                      "color": "#000000"
                    },
                    "showarrow": false
                  },
                  {
                    "xref": "x",
                    "yref": "y",
                    "text": "1595",
                    "y": "severe_toxic",
                    "x": "severe_toxic",
                    "font": {
                      "color": "#000000"
                    },
                    "showarrow": false
                  },
                  {
                    "xref": "x",
                    "yref": "y",
                    "text": "1517",
                    "y": "severe_toxic",
                    "x": "obscene",
                    "font": {
                      "color": "#000000"
                    },
                    "showarrow": false
                  },
                  {
                    "xref": "x",
                    "yref": "y",
                    "text": "112",
                    "y": "severe_toxic",
                    "x": "threat",
                    "font": {
                      "color": "#000000"
                    },
                    "showarrow": false
                  },
                  {
                    "xref": "x",
                    "yref": "y",
                    "text": "1371",
                    "y": "severe_toxic",
                    "x": "insult",
                    "font": {
                      "color": "#000000"
                    },
                    "showarrow": false
                  },
                  {
                    "xref": "x",
                    "yref": "y",
                    "text": "313",
                    "y": "severe_toxic",
                    "x": "identity_hate",
                    "font": {
                      "color": "#000000"
                    },
                    "showarrow": false
                  },
                  {
                    "xref": "x",
                    "yref": "y",
                    "text": "7926",
                    "y": "obscene",
                    "x": "toxic",
                    "font": {
                      "color": "#FFFFFF"
                    },
                    "showarrow": false
                  },
                  {
                    "xref": "x",
                    "yref": "y",
                    "text": "1517",
                    "y": "obscene",
                    "x": "severe_toxic",
                    "font": {
                      "color": "#000000"
                    },
                    "showarrow": false
                  },
                  {
                    "xref": "x",
                    "yref": "y",
                    "text": "8449",
                    "y": "obscene",
                    "x": "obscene",
                    "font": {
                      "color": "#FFFFFF"
                    },
                    "showarrow": false
                  },
                  {
                    "xref": "x",
                    "yref": "y",
                    "text": "301",
                    "y": "obscene",
                    "x": "threat",
                    "font": {
                      "color": "#000000"
                    },
                    "showarrow": false
                  },
                  {
                    "xref": "x",
                    "yref": "y",
                    "text": "6155",
                    "y": "obscene",
                    "x": "insult",
                    "font": {
                      "color": "#000000"
                    },
                    "showarrow": false
                  },
                  {
                    "xref": "x",
                    "yref": "y",
                    "text": "1032",
                    "y": "obscene",
                    "x": "identity_hate",
                    "font": {
                      "color": "#000000"
                    },
                    "showarrow": false
                  },
                  {
                    "xref": "x",
                    "yref": "y",
                    "text": "449",
                    "y": "threat",
                    "x": "toxic",
                    "font": {
                      "color": "#000000"
                    },
                    "showarrow": false
                  },
                  {
                    "xref": "x",
                    "yref": "y",
                    "text": "112",
                    "y": "threat",
                    "x": "severe_toxic",
                    "font": {
                      "color": "#000000"
                    },
                    "showarrow": false
                  },
                  {
                    "xref": "x",
                    "yref": "y",
                    "text": "301",
                    "y": "threat",
                    "x": "obscene",
                    "font": {
                      "color": "#000000"
                    },
                    "showarrow": false
                  },
                  {
                    "xref": "x",
                    "yref": "y",
                    "text": "478",
                    "y": "threat",
                    "x": "threat",
                    "font": {
                      "color": "#000000"
                    },
                    "showarrow": false
                  },
                  {
                    "xref": "x",
                    "yref": "y",
                    "text": "307",
                    "y": "threat",
                    "x": "insult",
                    "font": {
                      "color": "#000000"
                    },
                    "showarrow": false
                  },
                  {
                    "xref": "x",
                    "yref": "y",
                    "text": "98",
                    "y": "threat",
                    "x": "identity_hate",
                    "font": {
                      "color": "#000000"
                    },
                    "showarrow": false
                  },
                  {
                    "xref": "x",
                    "yref": "y",
                    "text": "7344",
                    "y": "insult",
                    "x": "toxic",
                    "font": {
                      "color": "#000000"
                    },
                    "showarrow": false
                  },
                  {
                    "xref": "x",
                    "yref": "y",
                    "text": "1371",
                    "y": "insult",
                    "x": "severe_toxic",
                    "font": {
                      "color": "#000000"
                    },
                    "showarrow": false
                  },
                  {
                    "xref": "x",
                    "yref": "y",
                    "text": "6155",
                    "y": "insult",
                    "x": "obscene",
                    "font": {
                      "color": "#000000"
                    },
                    "showarrow": false
                  },
                  {
                    "xref": "x",
                    "yref": "y",
                    "text": "307",
                    "y": "insult",
                    "x": "threat",
                    "font": {
                      "color": "#000000"
                    },
                    "showarrow": false
                  },
                  {
                    "xref": "x",
                    "yref": "y",
                    "text": "7877",
                    "y": "insult",
                    "x": "insult",
                    "font": {
                      "color": "#FFFFFF"
                    },
                    "showarrow": false
                  },
                  {
                    "xref": "x",
                    "yref": "y",
                    "text": "1160",
                    "y": "insult",
                    "x": "identity_hate",
                    "font": {
                      "color": "#000000"
                    },
                    "showarrow": false
                  },
                  {
                    "xref": "x",
                    "yref": "y",
                    "text": "1302",
                    "y": "identity_hate",
                    "x": "toxic",
                    "font": {
                      "color": "#000000"
                    },
                    "showarrow": false
                  },
                  {
                    "xref": "x",
                    "yref": "y",
                    "text": "313",
                    "y": "identity_hate",
                    "x": "severe_toxic",
                    "font": {
                      "color": "#000000"
                    },
                    "showarrow": false
                  },
                  {
                    "xref": "x",
                    "yref": "y",
                    "text": "1032",
                    "y": "identity_hate",
                    "x": "obscene",
                    "font": {
                      "color": "#000000"
                    },
                    "showarrow": false
                  },
                  {
                    "xref": "x",
                    "yref": "y",
                    "text": "98",
                    "y": "identity_hate",
                    "x": "threat",
                    "font": {
                      "color": "#000000"
                    },
                    "showarrow": false
                  },
                  {
                    "xref": "x",
                    "yref": "y",
                    "text": "1160",
                    "y": "identity_hate",
                    "x": "insult",
                    "font": {
                      "color": "#000000"
                    },
                    "showarrow": false
                  },
                  {
                    "xref": "x",
                    "yref": "y",
                    "text": "1405",
                    "y": "identity_hate",
                    "x": "identity_hate",
                    "font": {
                      "color": "#000000"
                    },
                    "showarrow": false
                  }
                ]
              }
            }
          },
          "metadata": {
            "tags": []
          }
        }
      ]
    },
    {
      "cell_type": "code",
      "metadata": {
        "id": "3Ww1heS3DoAn",
        "colab_type": "code",
        "colab": {}
      },
      "source": [
        "from google.colab import files\n",
        "files.download('concurrent.png')"
      ],
      "execution_count": null,
      "outputs": []
    },
    {
      "cell_type": "code",
      "metadata": {
        "id": "87feA7BOFP6Q",
        "colab_type": "code",
        "colab": {}
      },
      "source": [
        ""
      ],
      "execution_count": null,
      "outputs": []
    }
  ]
}